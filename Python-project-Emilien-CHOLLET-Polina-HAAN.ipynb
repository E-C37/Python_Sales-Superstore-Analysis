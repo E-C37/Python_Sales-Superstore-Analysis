{
 "cells": [
  {
   "cell_type": "markdown",
   "metadata": {},
   "source": [
    "## Project: Sales Superstore A-to-Z-Market Exploratory Data Analysis with Python \n"
   ]
  },
  {
   "cell_type": "markdown",
   "metadata": {},
   "source": [
    "#### Emilien Chollet\n",
    "#### Polina Haan-Shabarova"
   ]
  },
  {
   "cell_type": "code",
   "execution_count": 2,
   "metadata": {},
   "outputs": [],
   "source": [
    "import pandas as pd"
   ]
  },
  {
   "cell_type": "code",
   "execution_count": 62,
   "metadata": {},
   "outputs": [],
   "source": [
    "from matplotlib import pyplot as plt\n",
    "import numpy as np\n",
    "import seaborn as sb"
   ]
  },
  {
   "cell_type": "markdown",
   "metadata": {},
   "source": [
    "# Cleaning the data"
   ]
  },
  {
   "cell_type": "code",
   "execution_count": 4,
   "metadata": {},
   "outputs": [],
   "source": [
    "df=pd.read_csv('sales.csv')"
   ]
  },
  {
   "cell_type": "markdown",
   "metadata": {},
   "source": [
    "Lest's take a look at the content of the dataframe."
   ]
  },
  {
   "cell_type": "code",
   "execution_count": 4,
   "metadata": {},
   "outputs": [
    {
     "data": {
      "text/html": [
       "<div>\n",
       "<style scoped>\n",
       "    .dataframe tbody tr th:only-of-type {\n",
       "        vertical-align: middle;\n",
       "    }\n",
       "\n",
       "    .dataframe tbody tr th {\n",
       "        vertical-align: top;\n",
       "    }\n",
       "\n",
       "    .dataframe thead th {\n",
       "        text-align: right;\n",
       "    }\n",
       "</style>\n",
       "<table border=\"1\" class=\"dataframe\">\n",
       "  <thead>\n",
       "    <tr style=\"text-align: right;\">\n",
       "      <th></th>\n",
       "      <th>Order ID</th>\n",
       "      <th>Order Date</th>\n",
       "      <th>Order Year</th>\n",
       "      <th>Order Quarter</th>\n",
       "      <th>Ship Date</th>\n",
       "      <th>Ship Mode</th>\n",
       "      <th>Customer ID</th>\n",
       "      <th>Customer Name</th>\n",
       "      <th>Segment</th>\n",
       "      <th>Country</th>\n",
       "      <th>...</th>\n",
       "      <th>Postal Code</th>\n",
       "      <th>Region</th>\n",
       "      <th>Product ID</th>\n",
       "      <th>Category</th>\n",
       "      <th>Sub-Category</th>\n",
       "      <th>Product Name</th>\n",
       "      <th>Sales</th>\n",
       "      <th>Quantity</th>\n",
       "      <th>Discount</th>\n",
       "      <th>Profit</th>\n",
       "    </tr>\n",
       "  </thead>\n",
       "  <tbody>\n",
       "    <tr>\n",
       "      <th>0</th>\n",
       "      <td>CA-2018-152156</td>\n",
       "      <td>08/11/2018</td>\n",
       "      <td>2018</td>\n",
       "      <td>3</td>\n",
       "      <td>11/11/2018</td>\n",
       "      <td>Second Class</td>\n",
       "      <td>CG-12520</td>\n",
       "      <td>Claire Gute</td>\n",
       "      <td>Consumer</td>\n",
       "      <td>United States</td>\n",
       "      <td>...</td>\n",
       "      <td>42420.0</td>\n",
       "      <td>South</td>\n",
       "      <td>FUR-BO-10001798</td>\n",
       "      <td>Furniture</td>\n",
       "      <td>Bookcases</td>\n",
       "      <td>Bush Somerset Collection Bookcase</td>\n",
       "      <td>261.9600</td>\n",
       "      <td>2</td>\n",
       "      <td>0.00</td>\n",
       "      <td>41.9136</td>\n",
       "    </tr>\n",
       "    <tr>\n",
       "      <th>1</th>\n",
       "      <td>CA-2018-152156</td>\n",
       "      <td>08/11/2018</td>\n",
       "      <td>2018</td>\n",
       "      <td>3</td>\n",
       "      <td>11/11/2018</td>\n",
       "      <td>Second Class</td>\n",
       "      <td>CG-12520</td>\n",
       "      <td>Claire Gute</td>\n",
       "      <td>Consumer</td>\n",
       "      <td>United States</td>\n",
       "      <td>...</td>\n",
       "      <td>42420.0</td>\n",
       "      <td>South</td>\n",
       "      <td>FUR-CH-10000454</td>\n",
       "      <td>Furniture</td>\n",
       "      <td>Chairs</td>\n",
       "      <td>Hon Deluxe Fabric Upholstered Stacking Chairs,...</td>\n",
       "      <td>731.9400</td>\n",
       "      <td>3</td>\n",
       "      <td>0.00</td>\n",
       "      <td>219.5820</td>\n",
       "    </tr>\n",
       "    <tr>\n",
       "      <th>2</th>\n",
       "      <td>CA-2018-138688</td>\n",
       "      <td>12/06/2018</td>\n",
       "      <td>2018</td>\n",
       "      <td>4</td>\n",
       "      <td>16/06/2018</td>\n",
       "      <td>Second Class</td>\n",
       "      <td>DV-13045</td>\n",
       "      <td>Darrin Van Huff</td>\n",
       "      <td>Corporate</td>\n",
       "      <td>United States</td>\n",
       "      <td>...</td>\n",
       "      <td>90036.0</td>\n",
       "      <td>West</td>\n",
       "      <td>OFF-LA-10000240</td>\n",
       "      <td>Office Supplies</td>\n",
       "      <td>Labels</td>\n",
       "      <td>Self-Adhesive Address Labels for Typewriters b...</td>\n",
       "      <td>14.6200</td>\n",
       "      <td>2</td>\n",
       "      <td>0.00</td>\n",
       "      <td>6.8714</td>\n",
       "    </tr>\n",
       "    <tr>\n",
       "      <th>3</th>\n",
       "      <td>US-2017-108966</td>\n",
       "      <td>11/10/2017</td>\n",
       "      <td>2017</td>\n",
       "      <td>4</td>\n",
       "      <td>18/10/2017</td>\n",
       "      <td>Standard Class</td>\n",
       "      <td>SO-20335</td>\n",
       "      <td>Sean O'Donnell</td>\n",
       "      <td>Consumer</td>\n",
       "      <td>United States</td>\n",
       "      <td>...</td>\n",
       "      <td>33311.0</td>\n",
       "      <td>South</td>\n",
       "      <td>FUR-TA-10000577</td>\n",
       "      <td>Furniture</td>\n",
       "      <td>Tables</td>\n",
       "      <td>Bretford CR4500 Series Slim Rectangular Table</td>\n",
       "      <td>957.5775</td>\n",
       "      <td>5</td>\n",
       "      <td>0.45</td>\n",
       "      <td>-383.0310</td>\n",
       "    </tr>\n",
       "    <tr>\n",
       "      <th>4</th>\n",
       "      <td>US-2017-108966</td>\n",
       "      <td>11/10/2017</td>\n",
       "      <td>2017</td>\n",
       "      <td>4</td>\n",
       "      <td>18/10/2017</td>\n",
       "      <td>Standard Class</td>\n",
       "      <td>SO-20335</td>\n",
       "      <td>Sean O'Donnell</td>\n",
       "      <td>Consumer</td>\n",
       "      <td>United States</td>\n",
       "      <td>...</td>\n",
       "      <td>33311.0</td>\n",
       "      <td>South</td>\n",
       "      <td>OFF-ST-10000760</td>\n",
       "      <td>Office Supplies</td>\n",
       "      <td>Storage</td>\n",
       "      <td>Eldon Fold 'N Roll Cart System</td>\n",
       "      <td>22.3680</td>\n",
       "      <td>2</td>\n",
       "      <td>0.20</td>\n",
       "      <td>2.5164</td>\n",
       "    </tr>\n",
       "    <tr>\n",
       "      <th>5</th>\n",
       "      <td>CA-2016-115812</td>\n",
       "      <td>09/06/2016</td>\n",
       "      <td>2016</td>\n",
       "      <td>3</td>\n",
       "      <td>14/06/2016</td>\n",
       "      <td>Standard Class</td>\n",
       "      <td>BH-11710</td>\n",
       "      <td>Brosina Hoffman</td>\n",
       "      <td>Consumer</td>\n",
       "      <td>United States</td>\n",
       "      <td>...</td>\n",
       "      <td>90032.0</td>\n",
       "      <td>West</td>\n",
       "      <td>FUR-FU-10001487</td>\n",
       "      <td>Furniture</td>\n",
       "      <td>Furnishings</td>\n",
       "      <td>Eldon Expressions Wood and Plastic Desk Access...</td>\n",
       "      <td>48.8600</td>\n",
       "      <td>7</td>\n",
       "      <td>0.00</td>\n",
       "      <td>14.1694</td>\n",
       "    </tr>\n",
       "    <tr>\n",
       "      <th>6</th>\n",
       "      <td>CA-2016-115812</td>\n",
       "      <td>09/06/2016</td>\n",
       "      <td>2016</td>\n",
       "      <td>3</td>\n",
       "      <td>14/06/2016</td>\n",
       "      <td>Standard Class</td>\n",
       "      <td>BH-11710</td>\n",
       "      <td>Brosina Hoffman</td>\n",
       "      <td>Consumer</td>\n",
       "      <td>United States</td>\n",
       "      <td>...</td>\n",
       "      <td>90032.0</td>\n",
       "      <td>West</td>\n",
       "      <td>OFF-AR-10002833</td>\n",
       "      <td>Office Supplies</td>\n",
       "      <td>Art</td>\n",
       "      <td>Newell 322</td>\n",
       "      <td>7.2800</td>\n",
       "      <td>4</td>\n",
       "      <td>0.00</td>\n",
       "      <td>1.9656</td>\n",
       "    </tr>\n",
       "    <tr>\n",
       "      <th>7</th>\n",
       "      <td>CA-2016-115812</td>\n",
       "      <td>09/06/2016</td>\n",
       "      <td>2016</td>\n",
       "      <td>3</td>\n",
       "      <td>14/06/2016</td>\n",
       "      <td>Standard Class</td>\n",
       "      <td>BH-11710</td>\n",
       "      <td>Brosina Hoffman</td>\n",
       "      <td>Consumer</td>\n",
       "      <td>United States</td>\n",
       "      <td>...</td>\n",
       "      <td>90032.0</td>\n",
       "      <td>West</td>\n",
       "      <td>TEC-PH-10002275</td>\n",
       "      <td>Technology</td>\n",
       "      <td>Phones</td>\n",
       "      <td>Mitel 5320 IP Phone VoIP phone</td>\n",
       "      <td>907.1520</td>\n",
       "      <td>6</td>\n",
       "      <td>0.20</td>\n",
       "      <td>90.7152</td>\n",
       "    </tr>\n",
       "    <tr>\n",
       "      <th>8</th>\n",
       "      <td>CA-2016-115812</td>\n",
       "      <td>09/06/2016</td>\n",
       "      <td>2016</td>\n",
       "      <td>3</td>\n",
       "      <td>14/06/2016</td>\n",
       "      <td>Standard Class</td>\n",
       "      <td>BH-11710</td>\n",
       "      <td>Brosina Hoffman</td>\n",
       "      <td>Consumer</td>\n",
       "      <td>United States</td>\n",
       "      <td>...</td>\n",
       "      <td>90032.0</td>\n",
       "      <td>West</td>\n",
       "      <td>OFF-BI-10003910</td>\n",
       "      <td>Office Supplies</td>\n",
       "      <td>Binders</td>\n",
       "      <td>DXL Angle-View Binders with Locking Rings by S...</td>\n",
       "      <td>18.5040</td>\n",
       "      <td>3</td>\n",
       "      <td>0.20</td>\n",
       "      <td>5.7825</td>\n",
       "    </tr>\n",
       "    <tr>\n",
       "      <th>9</th>\n",
       "      <td>CA-2016-115812</td>\n",
       "      <td>09/06/2016</td>\n",
       "      <td>2016</td>\n",
       "      <td>3</td>\n",
       "      <td>14/06/2016</td>\n",
       "      <td>Standard Class</td>\n",
       "      <td>BH-11710</td>\n",
       "      <td>Brosina Hoffman</td>\n",
       "      <td>Consumer</td>\n",
       "      <td>United States</td>\n",
       "      <td>...</td>\n",
       "      <td>90032.0</td>\n",
       "      <td>West</td>\n",
       "      <td>OFF-AP-10002892</td>\n",
       "      <td>Office Supplies</td>\n",
       "      <td>Appliances</td>\n",
       "      <td>Belkin F5C206VTEL 6 Outlet Surge</td>\n",
       "      <td>114.9000</td>\n",
       "      <td>5</td>\n",
       "      <td>0.00</td>\n",
       "      <td>34.4700</td>\n",
       "    </tr>\n",
       "  </tbody>\n",
       "</table>\n",
       "<p>10 rows × 22 columns</p>\n",
       "</div>"
      ],
      "text/plain": [
       "         Order ID  Order Date  Order Year  Order Quarter   Ship Date  \\\n",
       "0  CA-2018-152156  08/11/2018        2018              3  11/11/2018   \n",
       "1  CA-2018-152156  08/11/2018        2018              3  11/11/2018   \n",
       "2  CA-2018-138688  12/06/2018        2018              4  16/06/2018   \n",
       "3  US-2017-108966  11/10/2017        2017              4  18/10/2017   \n",
       "4  US-2017-108966  11/10/2017        2017              4  18/10/2017   \n",
       "5  CA-2016-115812  09/06/2016        2016              3  14/06/2016   \n",
       "6  CA-2016-115812  09/06/2016        2016              3  14/06/2016   \n",
       "7  CA-2016-115812  09/06/2016        2016              3  14/06/2016   \n",
       "8  CA-2016-115812  09/06/2016        2016              3  14/06/2016   \n",
       "9  CA-2016-115812  09/06/2016        2016              3  14/06/2016   \n",
       "\n",
       "        Ship Mode Customer ID    Customer Name    Segment        Country  ...  \\\n",
       "0    Second Class    CG-12520      Claire Gute   Consumer  United States  ...   \n",
       "1    Second Class    CG-12520      Claire Gute   Consumer  United States  ...   \n",
       "2    Second Class    DV-13045  Darrin Van Huff  Corporate  United States  ...   \n",
       "3  Standard Class    SO-20335   Sean O'Donnell   Consumer  United States  ...   \n",
       "4  Standard Class    SO-20335   Sean O'Donnell   Consumer  United States  ...   \n",
       "5  Standard Class    BH-11710  Brosina Hoffman   Consumer  United States  ...   \n",
       "6  Standard Class    BH-11710  Brosina Hoffman   Consumer  United States  ...   \n",
       "7  Standard Class    BH-11710  Brosina Hoffman   Consumer  United States  ...   \n",
       "8  Standard Class    BH-11710  Brosina Hoffman   Consumer  United States  ...   \n",
       "9  Standard Class    BH-11710  Brosina Hoffman   Consumer  United States  ...   \n",
       "\n",
       "  Postal Code Region       Product ID         Category Sub-Category  \\\n",
       "0     42420.0  South  FUR-BO-10001798        Furniture    Bookcases   \n",
       "1     42420.0  South  FUR-CH-10000454        Furniture       Chairs   \n",
       "2     90036.0   West  OFF-LA-10000240  Office Supplies       Labels   \n",
       "3     33311.0  South  FUR-TA-10000577        Furniture       Tables   \n",
       "4     33311.0  South  OFF-ST-10000760  Office Supplies      Storage   \n",
       "5     90032.0   West  FUR-FU-10001487        Furniture  Furnishings   \n",
       "6     90032.0   West  OFF-AR-10002833  Office Supplies          Art   \n",
       "7     90032.0   West  TEC-PH-10002275       Technology       Phones   \n",
       "8     90032.0   West  OFF-BI-10003910  Office Supplies      Binders   \n",
       "9     90032.0   West  OFF-AP-10002892  Office Supplies   Appliances   \n",
       "\n",
       "                                        Product Name     Sales Quantity  \\\n",
       "0                  Bush Somerset Collection Bookcase  261.9600        2   \n",
       "1  Hon Deluxe Fabric Upholstered Stacking Chairs,...  731.9400        3   \n",
       "2  Self-Adhesive Address Labels for Typewriters b...   14.6200        2   \n",
       "3      Bretford CR4500 Series Slim Rectangular Table  957.5775        5   \n",
       "4                     Eldon Fold 'N Roll Cart System   22.3680        2   \n",
       "5  Eldon Expressions Wood and Plastic Desk Access...   48.8600        7   \n",
       "6                                         Newell 322    7.2800        4   \n",
       "7                     Mitel 5320 IP Phone VoIP phone  907.1520        6   \n",
       "8  DXL Angle-View Binders with Locking Rings by S...   18.5040        3   \n",
       "9                   Belkin F5C206VTEL 6 Outlet Surge  114.9000        5   \n",
       "\n",
       "   Discount    Profit  \n",
       "0      0.00   41.9136  \n",
       "1      0.00  219.5820  \n",
       "2      0.00    6.8714  \n",
       "3      0.45 -383.0310  \n",
       "4      0.20    2.5164  \n",
       "5      0.00   14.1694  \n",
       "6      0.00    1.9656  \n",
       "7      0.20   90.7152  \n",
       "8      0.20    5.7825  \n",
       "9      0.00   34.4700  \n",
       "\n",
       "[10 rows x 22 columns]"
      ]
     },
     "execution_count": 4,
     "metadata": {},
     "output_type": "execute_result"
    }
   ],
   "source": [
    "df.head(10)"
   ]
  },
  {
   "cell_type": "code",
   "execution_count": 6,
   "metadata": {},
   "outputs": [
    {
     "name": "stdout",
     "output_type": "stream",
     "text": [
      "<class 'pandas.core.frame.DataFrame'>\n",
      "RangeIndex: 9994 entries, 0 to 9993\n",
      "Data columns (total 22 columns):\n",
      " #   Column         Non-Null Count  Dtype  \n",
      "---  ------         --------------  -----  \n",
      " 0   Order ID       9994 non-null   object \n",
      " 1   Order Date     9994 non-null   object \n",
      " 2   Order Year     9994 non-null   int64  \n",
      " 3   Order Quarter  9994 non-null   int64  \n",
      " 4   Ship Date      9994 non-null   object \n",
      " 5   Ship Mode      9994 non-null   object \n",
      " 6   Customer ID    9994 non-null   object \n",
      " 7   Customer Name  9994 non-null   object \n",
      " 8   Segment        9994 non-null   object \n",
      " 9   Country        9994 non-null   object \n",
      " 10  City           9994 non-null   object \n",
      " 11  State          9994 non-null   object \n",
      " 12  Postal Code    9983 non-null   float64\n",
      " 13  Region         9994 non-null   object \n",
      " 14  Product ID     9994 non-null   object \n",
      " 15  Category       9994 non-null   object \n",
      " 16  Sub-Category   9994 non-null   object \n",
      " 17  Product Name   9994 non-null   object \n",
      " 18  Sales          9994 non-null   float64\n",
      " 19  Quantity       9994 non-null   int64  \n",
      " 20  Discount       9994 non-null   float64\n",
      " 21  Profit         9994 non-null   float64\n",
      "dtypes: float64(4), int64(3), object(15)\n",
      "memory usage: 1.7+ MB\n"
     ]
    }
   ],
   "source": [
    "df.info()"
   ]
  },
  {
   "cell_type": "markdown",
   "metadata": {},
   "source": [
    "Dataframe has 21 variables and 9994 rows."
   ]
  },
  {
   "cell_type": "markdown",
   "metadata": {},
   "source": [
    "There are no missing values. Nevertheless, the variables Ship date and Order date are dates and not strings. We need to change the data type:"
   ]
  },
  {
   "cell_type": "code",
   "execution_count": 5,
   "metadata": {},
   "outputs": [
    {
     "name": "stdout",
     "output_type": "stream",
     "text": [
      "<class 'pandas.core.frame.DataFrame'>\n",
      "RangeIndex: 9994 entries, 0 to 9993\n",
      "Data columns (total 22 columns):\n",
      " #   Column         Non-Null Count  Dtype         \n",
      "---  ------         --------------  -----         \n",
      " 0   Order ID       9994 non-null   object        \n",
      " 1   Order Date     9994 non-null   datetime64[ns]\n",
      " 2   Order Year     9994 non-null   int64         \n",
      " 3   Order Quarter  9994 non-null   int64         \n",
      " 4   Ship Date      9994 non-null   datetime64[ns]\n",
      " 5   Ship Mode      9994 non-null   object        \n",
      " 6   Customer ID    9994 non-null   object        \n",
      " 7   Customer Name  9994 non-null   object        \n",
      " 8   Segment        9994 non-null   object        \n",
      " 9   Country        9994 non-null   object        \n",
      " 10  City           9994 non-null   object        \n",
      " 11  State          9994 non-null   object        \n",
      " 12  Postal Code    9983 non-null   float64       \n",
      " 13  Region         9994 non-null   object        \n",
      " 14  Product ID     9994 non-null   object        \n",
      " 15  Category       9994 non-null   object        \n",
      " 16  Sub-Category   9994 non-null   object        \n",
      " 17  Product Name   9994 non-null   object        \n",
      " 18  Sales          9994 non-null   float64       \n",
      " 19  Quantity       9994 non-null   int64         \n",
      " 20  Discount       9994 non-null   float64       \n",
      " 21  Profit         9994 non-null   float64       \n",
      "dtypes: datetime64[ns](2), float64(4), int64(3), object(13)\n",
      "memory usage: 1.7+ MB\n"
     ]
    }
   ],
   "source": [
    "df['Order Date'] = pd.to_datetime(df['Order Date'], format='%d/%m/%Y')\n",
    "df['Ship Date'] = pd.to_datetime(df['Ship Date'], format='%d/%m/%Y')\n",
    "df.info()"
   ]
  },
  {
   "cell_type": "markdown",
   "metadata": {},
   "source": [
    "Before starting our analysis we need to understand what each row and column represent. "
   ]
  },
  {
   "cell_type": "markdown",
   "metadata": {},
   "source": [
    "One row represents 1 product by order by customer. This information is important if later we want to analyse cunsumer behaviour by grouping rows (group by Order_ID, than by Customer_ID).  "
   ]
  },
  {
   "cell_type": "markdown",
   "metadata": {},
   "source": [
    "# Data enrichement"
   ]
  },
  {
   "cell_type": "markdown",
   "metadata": {},
   "source": [
    "There are 2 columns built using formulars that we need to understand. "
   ]
  },
  {
   "cell_type": "markdown",
   "metadata": {},
   "source": [
    "###### Sales = Price * Quantity"
   ]
  },
  {
   "cell_type": "markdown",
   "metadata": {},
   "source": [
    "###### Profit = Sales - Expenses"
   ]
  },
  {
   "cell_type": "markdown",
   "metadata": {},
   "source": [
    "We need to create new variables  : "
   ]
  },
  {
   "cell_type": "markdown",
   "metadata": {},
   "source": [
    "###### Profit ratio = Profit/Sales : this variable will help us to judge the ability of the business to manufacture goods cost-effectively and to set reasonalbe price points."
   ]
  },
  {
   "cell_type": "markdown",
   "metadata": {},
   "source": [
    "###### Price = Sales/Quantity : this variable will give us an idea about the price distribution and market segment. "
   ]
  },
  {
   "cell_type": "markdown",
   "metadata": {},
   "source": [
    "### Adding columns"
   ]
  },
  {
   "cell_type": "code",
   "execution_count": 6,
   "metadata": {},
   "outputs": [],
   "source": [
    "df['Price']=df.Sales/df.Quantity"
   ]
  },
  {
   "cell_type": "code",
   "execution_count": 7,
   "metadata": {},
   "outputs": [],
   "source": [
    "df['Profit ratio_single sale']=df.Profit/df.Sales"
   ]
  },
  {
   "cell_type": "code",
   "execution_count": 8,
   "metadata": {
    "scrolled": true
   },
   "outputs": [
    {
     "data": {
      "text/html": [
       "<div>\n",
       "<style scoped>\n",
       "    .dataframe tbody tr th:only-of-type {\n",
       "        vertical-align: middle;\n",
       "    }\n",
       "\n",
       "    .dataframe tbody tr th {\n",
       "        vertical-align: top;\n",
       "    }\n",
       "\n",
       "    .dataframe thead th {\n",
       "        text-align: right;\n",
       "    }\n",
       "</style>\n",
       "<table border=\"1\" class=\"dataframe\">\n",
       "  <thead>\n",
       "    <tr style=\"text-align: right;\">\n",
       "      <th></th>\n",
       "      <th>Order ID</th>\n",
       "      <th>Order Date</th>\n",
       "      <th>Order Year</th>\n",
       "      <th>Order Quarter</th>\n",
       "      <th>Ship Date</th>\n",
       "      <th>Ship Mode</th>\n",
       "      <th>Customer ID</th>\n",
       "      <th>Customer Name</th>\n",
       "      <th>Segment</th>\n",
       "      <th>Country</th>\n",
       "      <th>...</th>\n",
       "      <th>Product ID</th>\n",
       "      <th>Category</th>\n",
       "      <th>Sub-Category</th>\n",
       "      <th>Product Name</th>\n",
       "      <th>Sales</th>\n",
       "      <th>Quantity</th>\n",
       "      <th>Discount</th>\n",
       "      <th>Profit</th>\n",
       "      <th>Price</th>\n",
       "      <th>Profit ratio_single sale</th>\n",
       "    </tr>\n",
       "  </thead>\n",
       "  <tbody>\n",
       "    <tr>\n",
       "      <th>0</th>\n",
       "      <td>CA-2018-152156</td>\n",
       "      <td>08/11/2018</td>\n",
       "      <td>2018</td>\n",
       "      <td>3</td>\n",
       "      <td>11/11/2018</td>\n",
       "      <td>Second Class</td>\n",
       "      <td>CG-12520</td>\n",
       "      <td>Claire Gute</td>\n",
       "      <td>Consumer</td>\n",
       "      <td>United States</td>\n",
       "      <td>...</td>\n",
       "      <td>FUR-BO-10001798</td>\n",
       "      <td>Furniture</td>\n",
       "      <td>Bookcases</td>\n",
       "      <td>Bush Somerset Collection Bookcase</td>\n",
       "      <td>261.9600</td>\n",
       "      <td>2</td>\n",
       "      <td>0.00</td>\n",
       "      <td>41.9136</td>\n",
       "      <td>130.9800</td>\n",
       "      <td>0.1600</td>\n",
       "    </tr>\n",
       "    <tr>\n",
       "      <th>1</th>\n",
       "      <td>CA-2018-152156</td>\n",
       "      <td>08/11/2018</td>\n",
       "      <td>2018</td>\n",
       "      <td>3</td>\n",
       "      <td>11/11/2018</td>\n",
       "      <td>Second Class</td>\n",
       "      <td>CG-12520</td>\n",
       "      <td>Claire Gute</td>\n",
       "      <td>Consumer</td>\n",
       "      <td>United States</td>\n",
       "      <td>...</td>\n",
       "      <td>FUR-CH-10000454</td>\n",
       "      <td>Furniture</td>\n",
       "      <td>Chairs</td>\n",
       "      <td>Hon Deluxe Fabric Upholstered Stacking Chairs,...</td>\n",
       "      <td>731.9400</td>\n",
       "      <td>3</td>\n",
       "      <td>0.00</td>\n",
       "      <td>219.5820</td>\n",
       "      <td>243.9800</td>\n",
       "      <td>0.3000</td>\n",
       "    </tr>\n",
       "    <tr>\n",
       "      <th>2</th>\n",
       "      <td>CA-2018-138688</td>\n",
       "      <td>12/06/2018</td>\n",
       "      <td>2018</td>\n",
       "      <td>4</td>\n",
       "      <td>16/06/2018</td>\n",
       "      <td>Second Class</td>\n",
       "      <td>DV-13045</td>\n",
       "      <td>Darrin Van Huff</td>\n",
       "      <td>Corporate</td>\n",
       "      <td>United States</td>\n",
       "      <td>...</td>\n",
       "      <td>OFF-LA-10000240</td>\n",
       "      <td>Office Supplies</td>\n",
       "      <td>Labels</td>\n",
       "      <td>Self-Adhesive Address Labels for Typewriters b...</td>\n",
       "      <td>14.6200</td>\n",
       "      <td>2</td>\n",
       "      <td>0.00</td>\n",
       "      <td>6.8714</td>\n",
       "      <td>7.3100</td>\n",
       "      <td>0.4700</td>\n",
       "    </tr>\n",
       "    <tr>\n",
       "      <th>3</th>\n",
       "      <td>US-2017-108966</td>\n",
       "      <td>11/10/2017</td>\n",
       "      <td>2017</td>\n",
       "      <td>4</td>\n",
       "      <td>18/10/2017</td>\n",
       "      <td>Standard Class</td>\n",
       "      <td>SO-20335</td>\n",
       "      <td>Sean O'Donnell</td>\n",
       "      <td>Consumer</td>\n",
       "      <td>United States</td>\n",
       "      <td>...</td>\n",
       "      <td>FUR-TA-10000577</td>\n",
       "      <td>Furniture</td>\n",
       "      <td>Tables</td>\n",
       "      <td>Bretford CR4500 Series Slim Rectangular Table</td>\n",
       "      <td>957.5775</td>\n",
       "      <td>5</td>\n",
       "      <td>0.45</td>\n",
       "      <td>-383.0310</td>\n",
       "      <td>191.5155</td>\n",
       "      <td>-0.4000</td>\n",
       "    </tr>\n",
       "    <tr>\n",
       "      <th>4</th>\n",
       "      <td>US-2017-108966</td>\n",
       "      <td>11/10/2017</td>\n",
       "      <td>2017</td>\n",
       "      <td>4</td>\n",
       "      <td>18/10/2017</td>\n",
       "      <td>Standard Class</td>\n",
       "      <td>SO-20335</td>\n",
       "      <td>Sean O'Donnell</td>\n",
       "      <td>Consumer</td>\n",
       "      <td>United States</td>\n",
       "      <td>...</td>\n",
       "      <td>OFF-ST-10000760</td>\n",
       "      <td>Office Supplies</td>\n",
       "      <td>Storage</td>\n",
       "      <td>Eldon Fold 'N Roll Cart System</td>\n",
       "      <td>22.3680</td>\n",
       "      <td>2</td>\n",
       "      <td>0.20</td>\n",
       "      <td>2.5164</td>\n",
       "      <td>11.1840</td>\n",
       "      <td>0.1125</td>\n",
       "    </tr>\n",
       "  </tbody>\n",
       "</table>\n",
       "<p>5 rows × 24 columns</p>\n",
       "</div>"
      ],
      "text/plain": [
       "         Order ID  Order Date  Order Year  Order Quarter   Ship Date  \\\n",
       "0  CA-2018-152156  08/11/2018        2018              3  11/11/2018   \n",
       "1  CA-2018-152156  08/11/2018        2018              3  11/11/2018   \n",
       "2  CA-2018-138688  12/06/2018        2018              4  16/06/2018   \n",
       "3  US-2017-108966  11/10/2017        2017              4  18/10/2017   \n",
       "4  US-2017-108966  11/10/2017        2017              4  18/10/2017   \n",
       "\n",
       "        Ship Mode Customer ID    Customer Name    Segment        Country  ...  \\\n",
       "0    Second Class    CG-12520      Claire Gute   Consumer  United States  ...   \n",
       "1    Second Class    CG-12520      Claire Gute   Consumer  United States  ...   \n",
       "2    Second Class    DV-13045  Darrin Van Huff  Corporate  United States  ...   \n",
       "3  Standard Class    SO-20335   Sean O'Donnell   Consumer  United States  ...   \n",
       "4  Standard Class    SO-20335   Sean O'Donnell   Consumer  United States  ...   \n",
       "\n",
       "        Product ID         Category  Sub-Category  \\\n",
       "0  FUR-BO-10001798        Furniture     Bookcases   \n",
       "1  FUR-CH-10000454        Furniture        Chairs   \n",
       "2  OFF-LA-10000240  Office Supplies        Labels   \n",
       "3  FUR-TA-10000577        Furniture        Tables   \n",
       "4  OFF-ST-10000760  Office Supplies       Storage   \n",
       "\n",
       "                                        Product Name     Sales Quantity  \\\n",
       "0                  Bush Somerset Collection Bookcase  261.9600        2   \n",
       "1  Hon Deluxe Fabric Upholstered Stacking Chairs,...  731.9400        3   \n",
       "2  Self-Adhesive Address Labels for Typewriters b...   14.6200        2   \n",
       "3      Bretford CR4500 Series Slim Rectangular Table  957.5775        5   \n",
       "4                     Eldon Fold 'N Roll Cart System   22.3680        2   \n",
       "\n",
       "  Discount    Profit     Price  Profit ratio_single sale  \n",
       "0     0.00   41.9136  130.9800                    0.1600  \n",
       "1     0.00  219.5820  243.9800                    0.3000  \n",
       "2     0.00    6.8714    7.3100                    0.4700  \n",
       "3     0.45 -383.0310  191.5155                   -0.4000  \n",
       "4     0.20    2.5164   11.1840                    0.1125  \n",
       "\n",
       "[5 rows x 24 columns]"
      ]
     },
     "execution_count": 8,
     "metadata": {},
     "output_type": "execute_result"
    }
   ],
   "source": [
    "df.head()"
   ]
  },
  {
   "cell_type": "markdown",
   "metadata": {},
   "source": [
    "# Analyse the profit of different products "
   ]
  },
  {
   "cell_type": "markdown",
   "metadata": {},
   "source": [
    "### Profit ratio distribution analysis"
   ]
  },
  {
   "cell_type": "markdown",
   "metadata": {},
   "source": [
    "To start our profit analysis, we want to know the global profit ratio and the profit ratio distribution."
   ]
  },
  {
   "cell_type": "code",
   "execution_count": 7,
   "metadata": {},
   "outputs": [
    {
     "name": "stdout",
     "output_type": "stream",
     "text": [
      "0.12467217240315906\n"
     ]
    }
   ],
   "source": [
    "Global_profit_ratio = sum(df['Profit'])/sum(df['Sales'])\n",
    "print(Global_profit_ratio)"
   ]
  },
  {
   "cell_type": "markdown",
   "metadata": {},
   "source": [
    "The global profit ratio is equal to 12%, it is a good profit margin. "
   ]
  },
  {
   "cell_type": "code",
   "execution_count": 8,
   "metadata": {},
   "outputs": [
    {
     "data": {
      "image/png": "[encoded data removed]",
      "text/plain": [
       "<Figure size 1080x432 with 1 Axes>"
      ]
     },
     "metadata": {
      "needs_background": "light"
     },
     "output_type": "display_data"
    }
   ],
   "source": [
    "plt.figure( figsize=(15,6))\n",
    "chart=sb.boxplot(x=df['Profit ratio_single sale'])\n",
    "chart.set_title('Profit ratio boxplot')\n",
    "plt.show()"
   ]
  },
  {
   "cell_type": "markdown",
   "metadata": {},
   "source": [
    "We can also build a Histogram."
   ]
  },
  {
   "cell_type": "code",
   "execution_count": 16,
   "metadata": {},
   "outputs": [
    {
     "name": "stderr",
     "output_type": "stream",
     "text": [
      "C:\\Users\\HAAN\\anaconda3\\lib\\site-packages\\seaborn\\distributions.py:2551: FutureWarning: `distplot` is a deprecated function and will be removed in a future version. Please adapt your code to use either `displot` (a figure-level function with similar flexibility) or `histplot` (an axes-level function for histograms).\n",
      "  warnings.warn(msg, FutureWarning)\n"
     ]
    },
    {
     "data": {
      "image/png": "[encoded data removed]",
      "text/plain": [
       "<Figure size 720x432 with 1 Axes>"
      ]
     },
     "metadata": {
      "needs_background": "light"
     },
     "output_type": "display_data"
    }
   ],
   "source": [
    "plt.figure( figsize=(10,6))\n",
    "chart=sb.distplot(df['Profit ratio_single sale'], hist=True)\n",
    "chart.set_title('Profit ratio histogram')\n",
    "plt.show()"
   ]
  },
  {
   "cell_type": "markdown",
   "metadata": {},
   "source": [
    "As we can see, the majority of the products have positive profit ratio between 0 and 0.5. However, some products have negative profit ratio, it can be the result of different factors : high expenses, low price, high discount, low sales.\n",
    "\n",
    "On one hand, our objective is to maintain and consolidate the current strategy for all products with high profit ratio. On the other hand, we need to identify the products with negative profit ratio and find the reasons why they are less profitable. According to the result of our analysis we will decide to change or not the strategy for these products or not. "
   ]
  },
  {
   "cell_type": "markdown",
   "metadata": {},
   "source": [
    "### Analysis of categories"
   ]
  },
  {
   "cell_type": "code",
   "execution_count": 10,
   "metadata": {},
   "outputs": [
    {
     "name": "stdout",
     "output_type": "stream",
     "text": [
      "          Category  Total_profit  Total_sales  Profit_ratio\n",
      "0        Furniture    18451.2728  741999.7953      0.024867\n",
      "1  Office Supplies   122490.8008  719047.0320      0.170352\n",
      "2       Technology   145454.9481  836154.0330      0.173957\n"
     ]
    }
   ],
   "source": [
    "profit_ratio_by_category=df.groupby(['Category']).agg(Total_profit=('Profit','sum'),Total_sales=('Sales','sum')).reset_index()\n",
    "profit_ratio_by_category['Profit_ratio']=profit_ratio_by_category['Total_profit']/profit_ratio_by_category['Total_sales']\n",
    "print(profit_ratio_by_category)"
   ]
  },
  {
   "cell_type": "code",
   "execution_count": 11,
   "metadata": {},
   "outputs": [
    {
     "data": {
      "text/plain": [
       "<AxesSubplot:xlabel='Category', ylabel='Profit_ratio'>"
      ]
     },
     "execution_count": 11,
     "metadata": {},
     "output_type": "execute_result"
    },
    {
     "data": {
      "image/png": "[encoded data removed]",
      "text/plain": [
       "<Figure size 432x288 with 1 Axes>"
      ]
     },
     "metadata": {
      "needs_background": "light"
     },
     "output_type": "display_data"
    }
   ],
   "source": [
    "sb.barplot(data=profit_ratio_by_category,x='Category',y='Profit_ratio',ci=None)"
   ]
  },
  {
   "cell_type": "markdown",
   "metadata": {},
   "source": [
    "Furniture is much less profitable than Office supplies and Technology.\n",
    "Now we want to increase the granularity of the plot to analyse the profitability of each sub-category. "
   ]
  },
  {
   "cell_type": "markdown",
   "metadata": {},
   "source": [
    "### Analysis of sub-categories"
   ]
  },
  {
   "cell_type": "markdown",
   "metadata": {},
   "source": [
    "#### Profit ratio analysis"
   ]
  },
  {
   "cell_type": "code",
   "execution_count": 8,
   "metadata": {},
   "outputs": [
    {
     "name": "stdout",
     "output_type": "stream",
     "text": [
      "   Sub-Category         Category  Total_profit  Total_sales  Profit_ratio\n",
      "0        Labels  Office Supplies     5546.2540   12486.3120      0.444187\n",
      "1         Paper  Office Supplies    34053.5693   78479.2060      0.433918\n",
      "2     Envelopes  Office Supplies     6964.1767   16476.4020      0.422676\n",
      "3       Copiers       Technology    55617.8249  149528.0300      0.371956\n",
      "4     Fasteners  Office Supplies      949.5182    3024.2800      0.313965\n",
      "5   Accessories       Technology    41936.6357  167380.3180      0.250547\n",
      "6           Art  Office Supplies     6527.7870   27118.7920      0.240711\n",
      "7    Appliances  Office Supplies    18138.0054  107532.1610      0.168675\n",
      "8       Binders  Office Supplies    30221.7633  203412.7330      0.148574\n",
      "9   Furnishings        Furniture    13059.1436   91705.1640      0.142404\n",
      "10       Phones       Technology    44515.7306  330007.0540      0.134893\n",
      "11      Storage  Office Supplies    21278.8264  223843.6080      0.095061\n",
      "12       Chairs        Furniture    26590.1663  328449.1030      0.080957\n",
      "13     Machines       Technology     3384.7569  189238.6310      0.017886\n",
      "14     Supplies  Office Supplies    -1189.0995   46673.5380     -0.025477\n",
      "15    Bookcases        Furniture    -3472.5560  114879.9963     -0.030228\n",
      "16       Tables        Furniture   -17725.4811  206965.5320     -0.085645\n"
     ]
    }
   ],
   "source": [
    "profit_ratio_by_sub_category=df.groupby(['Sub-Category','Category']).agg(Total_profit=('Profit','sum'),Total_sales=('Sales','sum')).reset_index()\n",
    "profit_ratio_by_sub_category['Profit_ratio']=profit_ratio_by_sub_category['Total_profit']/profit_ratio_by_sub_category['Total_sales']\n",
    "profit_ratio_by_sub_category=profit_ratio_by_sub_category.sort_values(by='Profit_ratio',ascending=False).reset_index(drop=True)\n",
    "print(profit_ratio_by_sub_category)"
   ]
  },
  {
   "cell_type": "code",
   "execution_count": 32,
   "metadata": {},
   "outputs": [
    {
     "data": {
      "text/plain": [
       "<AxesSubplot:xlabel='Sub-Category', ylabel='Profit_ratio'>"
      ]
     },
     "execution_count": 32,
     "metadata": {},
     "output_type": "execute_result"
    },
    {
     "data": {
      "image/png": "[encoded data removed]",
      "text/plain": [
       "<Figure size 1152x576 with 1 Axes>"
      ]
     },
     "metadata": {
      "needs_background": "light"
     },
     "output_type": "display_data"
    }
   ],
   "source": [
    "plt.figure( figsize=(16,8))\n",
    "sb.barplot(data=profit_ratio_by_sub_category,x='Sub-Category',y='Profit_ratio', hue='Category',ci=None)"
   ]
  },
  {
   "cell_type": "markdown",
   "metadata": {},
   "source": [
    "The less profitable sub-categories are Tables and Bookcases. The most profitable are Labels, Paper, Evelopes."
   ]
  },
  {
   "cell_type": "markdown",
   "metadata": {},
   "source": [
    "Let's compare the average price of all these sub-categories. "
   ]
  },
  {
   "cell_type": "markdown",
   "metadata": {},
   "source": [
    "#### Price analysis"
   ]
  },
  {
   "cell_type": "code",
   "execution_count": 7,
   "metadata": {},
   "outputs": [
    {
     "data": {
      "text/html": [
       "<style  type=\"text/css\" >\n",
       "#T_d4c4efcc_73a8_11eb_8364_ac87a33044f6row0_col0,#T_d4c4efcc_73a8_11eb_8364_ac87a33044f6row0_col1,#T_d4c4efcc_73a8_11eb_8364_ac87a33044f6row0_col2,#T_d4c4efcc_73a8_11eb_8364_ac87a33044f6row1_col0,#T_d4c4efcc_73a8_11eb_8364_ac87a33044f6row1_col1,#T_d4c4efcc_73a8_11eb_8364_ac87a33044f6row1_col2,#T_d4c4efcc_73a8_11eb_8364_ac87a33044f6row3_col0,#T_d4c4efcc_73a8_11eb_8364_ac87a33044f6row3_col1,#T_d4c4efcc_73a8_11eb_8364_ac87a33044f6row3_col2,#T_d4c4efcc_73a8_11eb_8364_ac87a33044f6row4_col0,#T_d4c4efcc_73a8_11eb_8364_ac87a33044f6row4_col1,#T_d4c4efcc_73a8_11eb_8364_ac87a33044f6row4_col2,#T_d4c4efcc_73a8_11eb_8364_ac87a33044f6row16_col0,#T_d4c4efcc_73a8_11eb_8364_ac87a33044f6row16_col1,#T_d4c4efcc_73a8_11eb_8364_ac87a33044f6row16_col2{\n",
       "            background-color:  green;\n",
       "        }#T_d4c4efcc_73a8_11eb_8364_ac87a33044f6row2_col0,#T_d4c4efcc_73a8_11eb_8364_ac87a33044f6row2_col1,#T_d4c4efcc_73a8_11eb_8364_ac87a33044f6row2_col2,#T_d4c4efcc_73a8_11eb_8364_ac87a33044f6row5_col0,#T_d4c4efcc_73a8_11eb_8364_ac87a33044f6row5_col1,#T_d4c4efcc_73a8_11eb_8364_ac87a33044f6row5_col2,#T_d4c4efcc_73a8_11eb_8364_ac87a33044f6row6_col0,#T_d4c4efcc_73a8_11eb_8364_ac87a33044f6row6_col1,#T_d4c4efcc_73a8_11eb_8364_ac87a33044f6row6_col2,#T_d4c4efcc_73a8_11eb_8364_ac87a33044f6row7_col0,#T_d4c4efcc_73a8_11eb_8364_ac87a33044f6row7_col1,#T_d4c4efcc_73a8_11eb_8364_ac87a33044f6row7_col2,#T_d4c4efcc_73a8_11eb_8364_ac87a33044f6row8_col0,#T_d4c4efcc_73a8_11eb_8364_ac87a33044f6row8_col1,#T_d4c4efcc_73a8_11eb_8364_ac87a33044f6row8_col2,#T_d4c4efcc_73a8_11eb_8364_ac87a33044f6row10_col0,#T_d4c4efcc_73a8_11eb_8364_ac87a33044f6row10_col1,#T_d4c4efcc_73a8_11eb_8364_ac87a33044f6row10_col2,#T_d4c4efcc_73a8_11eb_8364_ac87a33044f6row11_col0,#T_d4c4efcc_73a8_11eb_8364_ac87a33044f6row11_col1,#T_d4c4efcc_73a8_11eb_8364_ac87a33044f6row11_col2{\n",
       "            background-color:  white;\n",
       "        }#T_d4c4efcc_73a8_11eb_8364_ac87a33044f6row9_col0,#T_d4c4efcc_73a8_11eb_8364_ac87a33044f6row9_col1,#T_d4c4efcc_73a8_11eb_8364_ac87a33044f6row9_col2,#T_d4c4efcc_73a8_11eb_8364_ac87a33044f6row12_col0,#T_d4c4efcc_73a8_11eb_8364_ac87a33044f6row12_col1,#T_d4c4efcc_73a8_11eb_8364_ac87a33044f6row12_col2,#T_d4c4efcc_73a8_11eb_8364_ac87a33044f6row13_col0,#T_d4c4efcc_73a8_11eb_8364_ac87a33044f6row13_col1,#T_d4c4efcc_73a8_11eb_8364_ac87a33044f6row13_col2,#T_d4c4efcc_73a8_11eb_8364_ac87a33044f6row14_col0,#T_d4c4efcc_73a8_11eb_8364_ac87a33044f6row14_col1,#T_d4c4efcc_73a8_11eb_8364_ac87a33044f6row14_col2,#T_d4c4efcc_73a8_11eb_8364_ac87a33044f6row15_col0,#T_d4c4efcc_73a8_11eb_8364_ac87a33044f6row15_col1,#T_d4c4efcc_73a8_11eb_8364_ac87a33044f6row15_col2{\n",
       "            background-color:  red;\n",
       "        }</style><table id=\"T_d4c4efcc_73a8_11eb_8364_ac87a33044f6\" ><thead>    <tr>        <th class=\"blank level0\" ></th>        <th class=\"col_heading level0 col0\" >Sub-Category</th>        <th class=\"col_heading level0 col1\" >mean_price</th>        <th class=\"col_heading level0 col2\" >avg_discount</th>    </tr></thead><tbody>\n",
       "                <tr>\n",
       "                        <th id=\"T_d4c4efcc_73a8_11eb_8364_ac87a33044f6level0_row0\" class=\"row_heading level0 row0\" >0</th>\n",
       "                        <td id=\"T_d4c4efcc_73a8_11eb_8364_ac87a33044f6row0_col0\" class=\"data row0 col0\" >Fasteners</td>\n",
       "                        <td id=\"T_d4c4efcc_73a8_11eb_8364_ac87a33044f6row0_col1\" class=\"data row0 col1\" >3.288756</td>\n",
       "                        <td id=\"T_d4c4efcc_73a8_11eb_8364_ac87a33044f6row0_col2\" class=\"data row0 col2\" >0.082028</td>\n",
       "            </tr>\n",
       "            <tr>\n",
       "                        <th id=\"T_d4c4efcc_73a8_11eb_8364_ac87a33044f6level0_row1\" class=\"row_heading level0 row1\" >1</th>\n",
       "                        <td id=\"T_d4c4efcc_73a8_11eb_8364_ac87a33044f6row1_col0\" class=\"data row1 col0\" >Labels</td>\n",
       "                        <td id=\"T_d4c4efcc_73a8_11eb_8364_ac87a33044f6row1_col1\" class=\"data row1 col1\" >8.320423</td>\n",
       "                        <td id=\"T_d4c4efcc_73a8_11eb_8364_ac87a33044f6row1_col2\" class=\"data row1 col2\" >0.068681</td>\n",
       "            </tr>\n",
       "            <tr>\n",
       "                        <th id=\"T_d4c4efcc_73a8_11eb_8364_ac87a33044f6level0_row2\" class=\"row_heading level0 row2\" >2</th>\n",
       "                        <td id=\"T_d4c4efcc_73a8_11eb_8364_ac87a33044f6row2_col0\" class=\"data row2 col0\" >Art</td>\n",
       "                        <td id=\"T_d4c4efcc_73a8_11eb_8364_ac87a33044f6row2_col1\" class=\"data row2 col1\" >8.818075</td>\n",
       "                        <td id=\"T_d4c4efcc_73a8_11eb_8364_ac87a33044f6row2_col2\" class=\"data row2 col2\" >0.074874</td>\n",
       "            </tr>\n",
       "            <tr>\n",
       "                        <th id=\"T_d4c4efcc_73a8_11eb_8364_ac87a33044f6level0_row3\" class=\"row_heading level0 row3\" >3</th>\n",
       "                        <td id=\"T_d4c4efcc_73a8_11eb_8364_ac87a33044f6row3_col0\" class=\"data row3 col0\" >Paper</td>\n",
       "                        <td id=\"T_d4c4efcc_73a8_11eb_8364_ac87a33044f6row3_col1\" class=\"data row3 col1\" >15.578958</td>\n",
       "                        <td id=\"T_d4c4efcc_73a8_11eb_8364_ac87a33044f6row3_col2\" class=\"data row3 col2\" >0.074891</td>\n",
       "            </tr>\n",
       "            <tr>\n",
       "                        <th id=\"T_d4c4efcc_73a8_11eb_8364_ac87a33044f6level0_row4\" class=\"row_heading level0 row4\" >4</th>\n",
       "                        <td id=\"T_d4c4efcc_73a8_11eb_8364_ac87a33044f6row4_col0\" class=\"data row4 col0\" >Envelopes</td>\n",
       "                        <td id=\"T_d4c4efcc_73a8_11eb_8364_ac87a33044f6row4_col1\" class=\"data row4 col1\" >18.874843</td>\n",
       "                        <td id=\"T_d4c4efcc_73a8_11eb_8364_ac87a33044f6row4_col2\" class=\"data row4 col2\" >0.080315</td>\n",
       "            </tr>\n",
       "            <tr>\n",
       "                        <th id=\"T_d4c4efcc_73a8_11eb_8364_ac87a33044f6level0_row5\" class=\"row_heading level0 row5\" >5</th>\n",
       "                        <td id=\"T_d4c4efcc_73a8_11eb_8364_ac87a33044f6row5_col0\" class=\"data row5 col0\" >Furnishings</td>\n",
       "                        <td id=\"T_d4c4efcc_73a8_11eb_8364_ac87a33044f6row5_col1\" class=\"data row5 col1\" >25.607413</td>\n",
       "                        <td id=\"T_d4c4efcc_73a8_11eb_8364_ac87a33044f6row5_col2\" class=\"data row5 col2\" >0.138349</td>\n",
       "            </tr>\n",
       "            <tr>\n",
       "                        <th id=\"T_d4c4efcc_73a8_11eb_8364_ac87a33044f6level0_row6\" class=\"row_heading level0 row6\" >6</th>\n",
       "                        <td id=\"T_d4c4efcc_73a8_11eb_8364_ac87a33044f6row6_col0\" class=\"data row6 col0\" >Binders</td>\n",
       "                        <td id=\"T_d4c4efcc_73a8_11eb_8364_ac87a33044f6row6_col1\" class=\"data row6 col1\" >36.672279</td>\n",
       "                        <td id=\"T_d4c4efcc_73a8_11eb_8364_ac87a33044f6row6_col2\" class=\"data row6 col2\" >0.372292</td>\n",
       "            </tr>\n",
       "            <tr>\n",
       "                        <th id=\"T_d4c4efcc_73a8_11eb_8364_ac87a33044f6level0_row7\" class=\"row_heading level0 row7\" >7</th>\n",
       "                        <td id=\"T_d4c4efcc_73a8_11eb_8364_ac87a33044f6row7_col0\" class=\"data row7 col0\" >Accessories</td>\n",
       "                        <td id=\"T_d4c4efcc_73a8_11eb_8364_ac87a33044f6row7_col1\" class=\"data row7 col1\" >55.356630</td>\n",
       "                        <td id=\"T_d4c4efcc_73a8_11eb_8364_ac87a33044f6row7_col2\" class=\"data row7 col2\" >0.078452</td>\n",
       "            </tr>\n",
       "            <tr>\n",
       "                        <th id=\"T_d4c4efcc_73a8_11eb_8364_ac87a33044f6level0_row8\" class=\"row_heading level0 row8\" >8</th>\n",
       "                        <td id=\"T_d4c4efcc_73a8_11eb_8364_ac87a33044f6row8_col0\" class=\"data row8 col0\" >Appliances</td>\n",
       "                        <td id=\"T_d4c4efcc_73a8_11eb_8364_ac87a33044f6row8_col1\" class=\"data row8 col1\" >60.618659</td>\n",
       "                        <td id=\"T_d4c4efcc_73a8_11eb_8364_ac87a33044f6row8_col2\" class=\"data row8 col2\" >0.166524</td>\n",
       "            </tr>\n",
       "            <tr>\n",
       "                        <th id=\"T_d4c4efcc_73a8_11eb_8364_ac87a33044f6level0_row9\" class=\"row_heading level0 row9\" >9</th>\n",
       "                        <td id=\"T_d4c4efcc_73a8_11eb_8364_ac87a33044f6row9_col0\" class=\"data row9 col0\" >Supplies</td>\n",
       "                        <td id=\"T_d4c4efcc_73a8_11eb_8364_ac87a33044f6row9_col1\" class=\"data row9 col1\" >69.308105</td>\n",
       "                        <td id=\"T_d4c4efcc_73a8_11eb_8364_ac87a33044f6row9_col2\" class=\"data row9 col2\" >0.076842</td>\n",
       "            </tr>\n",
       "            <tr>\n",
       "                        <th id=\"T_d4c4efcc_73a8_11eb_8364_ac87a33044f6level0_row10\" class=\"row_heading level0 row10\" >10</th>\n",
       "                        <td id=\"T_d4c4efcc_73a8_11eb_8364_ac87a33044f6row10_col0\" class=\"data row10 col0\" >Storage</td>\n",
       "                        <td id=\"T_d4c4efcc_73a8_11eb_8364_ac87a33044f6row10_col1\" class=\"data row10 col1\" >70.451459</td>\n",
       "                        <td id=\"T_d4c4efcc_73a8_11eb_8364_ac87a33044f6row10_col2\" class=\"data row10 col2\" >0.074704</td>\n",
       "            </tr>\n",
       "            <tr>\n",
       "                        <th id=\"T_d4c4efcc_73a8_11eb_8364_ac87a33044f6level0_row11\" class=\"row_heading level0 row11\" >11</th>\n",
       "                        <td id=\"T_d4c4efcc_73a8_11eb_8364_ac87a33044f6row11_col0\" class=\"data row11 col0\" >Phones</td>\n",
       "                        <td id=\"T_d4c4efcc_73a8_11eb_8364_ac87a33044f6row11_col1\" class=\"data row11 col1\" >101.127993</td>\n",
       "                        <td id=\"T_d4c4efcc_73a8_11eb_8364_ac87a33044f6row11_col2\" class=\"data row11 col2\" >0.154556</td>\n",
       "            </tr>\n",
       "            <tr>\n",
       "                        <th id=\"T_d4c4efcc_73a8_11eb_8364_ac87a33044f6level0_row12\" class=\"row_heading level0 row12\" >12</th>\n",
       "                        <td id=\"T_d4c4efcc_73a8_11eb_8364_ac87a33044f6row12_col0\" class=\"data row12 col0\" >Bookcases</td>\n",
       "                        <td id=\"T_d4c4efcc_73a8_11eb_8364_ac87a33044f6row12_col1\" class=\"data row12 col1\" >131.100152</td>\n",
       "                        <td id=\"T_d4c4efcc_73a8_11eb_8364_ac87a33044f6row12_col2\" class=\"data row12 col2\" >0.211140</td>\n",
       "            </tr>\n",
       "            <tr>\n",
       "                        <th id=\"T_d4c4efcc_73a8_11eb_8364_ac87a33044f6level0_row13\" class=\"row_heading level0 row13\" >13</th>\n",
       "                        <td id=\"T_d4c4efcc_73a8_11eb_8364_ac87a33044f6row13_col0\" class=\"data row13 col0\" >Chairs</td>\n",
       "                        <td id=\"T_d4c4efcc_73a8_11eb_8364_ac87a33044f6row13_col1\" class=\"data row13 col1\" >138.802472</td>\n",
       "                        <td id=\"T_d4c4efcc_73a8_11eb_8364_ac87a33044f6row13_col2\" class=\"data row13 col2\" >0.170178</td>\n",
       "            </tr>\n",
       "            <tr>\n",
       "                        <th id=\"T_d4c4efcc_73a8_11eb_8364_ac87a33044f6level0_row14\" class=\"row_heading level0 row14\" >14</th>\n",
       "                        <td id=\"T_d4c4efcc_73a8_11eb_8364_ac87a33044f6row14_col0\" class=\"data row14 col0\" >Tables</td>\n",
       "                        <td id=\"T_d4c4efcc_73a8_11eb_8364_ac87a33044f6row14_col1\" class=\"data row14 col1\" >165.088613</td>\n",
       "                        <td id=\"T_d4c4efcc_73a8_11eb_8364_ac87a33044f6row14_col2\" class=\"data row14 col2\" >0.261285</td>\n",
       "            </tr>\n",
       "            <tr>\n",
       "                        <th id=\"T_d4c4efcc_73a8_11eb_8364_ac87a33044f6level0_row15\" class=\"row_heading level0 row15\" >15</th>\n",
       "                        <td id=\"T_d4c4efcc_73a8_11eb_8364_ac87a33044f6row15_col0\" class=\"data row15 col0\" >Machines</td>\n",
       "                        <td id=\"T_d4c4efcc_73a8_11eb_8364_ac87a33044f6row15_col1\" class=\"data row15 col1\" >423.352470</td>\n",
       "                        <td id=\"T_d4c4efcc_73a8_11eb_8364_ac87a33044f6row15_col2\" class=\"data row15 col2\" >0.306087</td>\n",
       "            </tr>\n",
       "            <tr>\n",
       "                        <th id=\"T_d4c4efcc_73a8_11eb_8364_ac87a33044f6level0_row16\" class=\"row_heading level0 row16\" >16</th>\n",
       "                        <td id=\"T_d4c4efcc_73a8_11eb_8364_ac87a33044f6row16_col0\" class=\"data row16 col0\" >Copiers</td>\n",
       "                        <td id=\"T_d4c4efcc_73a8_11eb_8364_ac87a33044f6row16_col1\" class=\"data row16 col1\" >601.021029</td>\n",
       "                        <td id=\"T_d4c4efcc_73a8_11eb_8364_ac87a33044f6row16_col2\" class=\"data row16 col2\" >0.161765</td>\n",
       "            </tr>\n",
       "    </tbody></table>"
      ],
      "text/plain": [
       "<pandas.io.formats.style.Styler at 0x7f894ba3eb20>"
      ]
     },
     "execution_count": 7,
     "metadata": {},
     "output_type": "execute_result"
    }
   ],
   "source": [
    "sub_categories_comparison = df.groupby('Sub-Category').agg(mean_price=('Price', 'mean'), avg_discount=('Discount','mean')).reset_index()\n",
    "sub_categories_comparison = sub_categories_comparison.sort_values(by='mean_price').reset_index(drop=True)\n",
    "sub_categories_comparison\n",
    "\n",
    "def highlight(df):\n",
    "    if df['Sub-Category'] in ['Labels','Paper','Envelopes','Copiers','Fasteners']:\n",
    "        return ['background-color: green']*len(df)\n",
    "    elif df['Sub-Category'] in ['Tables','Machines','Bookcases','Chairs','Supplies']:\n",
    "        return ['background-color: red']*len(df)\n",
    "    else:\n",
    "        return ['background-color: white']*len(df)\n",
    "\n",
    "sub_categories_comparison.style.apply(highlight, axis=1)"
   ]
  },
  {
   "cell_type": "markdown",
   "metadata": {},
   "source": [
    "Let's take a look at top 5 profitable products. Labels, Paper, Envelops and Fasteners are cheap products. Copier is the most expensive product. \n",
    "Let's take a look at 5 less profitable products. Tables, Machines, Bookcases and Chairs can be considered as more expensive products. \n",
    "\n",
    "We can conclude that the most profitable products are cheap products which don't require a lot of materials and complexe texhnologies to be produced. The less profitable products are more complex, they require more materials, technologies and labour force to be manufactured but even though their price is higher it seems to be insufficient to cover all the costs. The only exception are Copiers.\n",
    "\n",
    "We can also see that the higher is the price, the higher is the discount.\n",
    "\n",
    "Now let's take a look at the popularity of each type of products. "
   ]
  },
  {
   "cell_type": "markdown",
   "metadata": {},
   "source": [
    "#### Popularity analysis"
   ]
  },
  {
   "cell_type": "code",
   "execution_count": 24,
   "metadata": {},
   "outputs": [
    {
     "data": {
      "text/html": [
       "<div>\n",
       "<style scoped>\n",
       "    .dataframe tbody tr th:only-of-type {\n",
       "        vertical-align: middle;\n",
       "    }\n",
       "\n",
       "    .dataframe tbody tr th {\n",
       "        vertical-align: top;\n",
       "    }\n",
       "\n",
       "    .dataframe thead th {\n",
       "        text-align: right;\n",
       "    }\n",
       "</style>\n",
       "<table border=\"1\" class=\"dataframe\">\n",
       "  <thead>\n",
       "    <tr style=\"text-align: right;\">\n",
       "      <th></th>\n",
       "      <th>Sub-Category</th>\n",
       "      <th>count_orders</th>\n",
       "      <th>mean_quantity</th>\n",
       "    </tr>\n",
       "  </thead>\n",
       "  <tbody>\n",
       "    <tr>\n",
       "      <th>0</th>\n",
       "      <td>Binders</td>\n",
       "      <td>1523</td>\n",
       "      <td>3.922521</td>\n",
       "    </tr>\n",
       "    <tr>\n",
       "      <th>1</th>\n",
       "      <td>Paper</td>\n",
       "      <td>1370</td>\n",
       "      <td>3.779562</td>\n",
       "    </tr>\n",
       "    <tr>\n",
       "      <th>2</th>\n",
       "      <td>Furnishings</td>\n",
       "      <td>957</td>\n",
       "      <td>3.723093</td>\n",
       "    </tr>\n",
       "    <tr>\n",
       "      <th>3</th>\n",
       "      <td>Phones</td>\n",
       "      <td>889</td>\n",
       "      <td>3.699663</td>\n",
       "    </tr>\n",
       "    <tr>\n",
       "      <th>4</th>\n",
       "      <td>Storage</td>\n",
       "      <td>846</td>\n",
       "      <td>3.732861</td>\n",
       "    </tr>\n",
       "    <tr>\n",
       "      <th>5</th>\n",
       "      <td>Art</td>\n",
       "      <td>796</td>\n",
       "      <td>3.768844</td>\n",
       "    </tr>\n",
       "    <tr>\n",
       "      <th>6</th>\n",
       "      <td>Accessories</td>\n",
       "      <td>775</td>\n",
       "      <td>3.840000</td>\n",
       "    </tr>\n",
       "    <tr>\n",
       "      <th>7</th>\n",
       "      <td>Chairs</td>\n",
       "      <td>617</td>\n",
       "      <td>3.818476</td>\n",
       "    </tr>\n",
       "    <tr>\n",
       "      <th>8</th>\n",
       "      <td>Appliances</td>\n",
       "      <td>466</td>\n",
       "      <td>3.710300</td>\n",
       "    </tr>\n",
       "    <tr>\n",
       "      <th>9</th>\n",
       "      <td>Labels</td>\n",
       "      <td>364</td>\n",
       "      <td>3.846154</td>\n",
       "    </tr>\n",
       "    <tr>\n",
       "      <th>10</th>\n",
       "      <td>Tables</td>\n",
       "      <td>319</td>\n",
       "      <td>3.890282</td>\n",
       "    </tr>\n",
       "    <tr>\n",
       "      <th>11</th>\n",
       "      <td>Envelopes</td>\n",
       "      <td>254</td>\n",
       "      <td>3.566929</td>\n",
       "    </tr>\n",
       "    <tr>\n",
       "      <th>12</th>\n",
       "      <td>Bookcases</td>\n",
       "      <td>228</td>\n",
       "      <td>3.807018</td>\n",
       "    </tr>\n",
       "    <tr>\n",
       "      <th>13</th>\n",
       "      <td>Fasteners</td>\n",
       "      <td>217</td>\n",
       "      <td>4.211982</td>\n",
       "    </tr>\n",
       "    <tr>\n",
       "      <th>14</th>\n",
       "      <td>Supplies</td>\n",
       "      <td>190</td>\n",
       "      <td>3.405263</td>\n",
       "    </tr>\n",
       "    <tr>\n",
       "      <th>15</th>\n",
       "      <td>Machines</td>\n",
       "      <td>115</td>\n",
       "      <td>3.826087</td>\n",
       "    </tr>\n",
       "    <tr>\n",
       "      <th>16</th>\n",
       "      <td>Copiers</td>\n",
       "      <td>68</td>\n",
       "      <td>3.441176</td>\n",
       "    </tr>\n",
       "  </tbody>\n",
       "</table>\n",
       "</div>"
      ],
      "text/plain": [
       "   Sub-Category  count_orders  mean_quantity\n",
       "0       Binders          1523       3.922521\n",
       "1         Paper          1370       3.779562\n",
       "2   Furnishings           957       3.723093\n",
       "3        Phones           889       3.699663\n",
       "4       Storage           846       3.732861\n",
       "5           Art           796       3.768844\n",
       "6   Accessories           775       3.840000\n",
       "7        Chairs           617       3.818476\n",
       "8    Appliances           466       3.710300\n",
       "9        Labels           364       3.846154\n",
       "10       Tables           319       3.890282\n",
       "11    Envelopes           254       3.566929\n",
       "12    Bookcases           228       3.807018\n",
       "13    Fasteners           217       4.211982\n",
       "14     Supplies           190       3.405263\n",
       "15     Machines           115       3.826087\n",
       "16      Copiers            68       3.441176"
      ]
     },
     "execution_count": 24,
     "metadata": {},
     "output_type": "execute_result"
    }
   ],
   "source": [
    "sub_categories_popularity = df.groupby('Sub-Category').agg(count_orders=('Product ID', 'count'), mean_quantity=('Quantity','mean')).reset_index()\n",
    "sub_categories_popularity = sub_categories_popularity.sort_values(by='count_orders',ascending=False).reset_index(drop=True)\n",
    "sub_categories_popularity"
   ]
  },
  {
   "cell_type": "markdown",
   "metadata": {},
   "source": [
    "In average people buy 3 products by order. We can see that the most popular products are profitable (Profit ratio between 10% and 20%) and have a median average price. In general, expensive products are less popular."
   ]
  },
  {
   "cell_type": "markdown",
   "metadata": {},
   "source": [
    "Let's see how much profit brings each category. "
   ]
  },
  {
   "cell_type": "markdown",
   "metadata": {},
   "source": [
    "#### Profit analysis"
   ]
  },
  {
   "cell_type": "code",
   "execution_count": 25,
   "metadata": {},
   "outputs": [
    {
     "data": {
      "text/html": [
       "<div>\n",
       "<style scoped>\n",
       "    .dataframe tbody tr th:only-of-type {\n",
       "        vertical-align: middle;\n",
       "    }\n",
       "\n",
       "    .dataframe tbody tr th {\n",
       "        vertical-align: top;\n",
       "    }\n",
       "\n",
       "    .dataframe thead th {\n",
       "        text-align: right;\n",
       "    }\n",
       "</style>\n",
       "<table border=\"1\" class=\"dataframe\">\n",
       "  <thead>\n",
       "    <tr style=\"text-align: right;\">\n",
       "      <th></th>\n",
       "      <th>Sub-Category</th>\n",
       "      <th>sum_profit</th>\n",
       "    </tr>\n",
       "  </thead>\n",
       "  <tbody>\n",
       "    <tr>\n",
       "      <th>0</th>\n",
       "      <td>Copiers</td>\n",
       "      <td>55617.8249</td>\n",
       "    </tr>\n",
       "    <tr>\n",
       "      <th>1</th>\n",
       "      <td>Phones</td>\n",
       "      <td>44515.7306</td>\n",
       "    </tr>\n",
       "    <tr>\n",
       "      <th>2</th>\n",
       "      <td>Accessories</td>\n",
       "      <td>41936.6357</td>\n",
       "    </tr>\n",
       "    <tr>\n",
       "      <th>3</th>\n",
       "      <td>Paper</td>\n",
       "      <td>34053.5693</td>\n",
       "    </tr>\n",
       "    <tr>\n",
       "      <th>4</th>\n",
       "      <td>Binders</td>\n",
       "      <td>30221.7633</td>\n",
       "    </tr>\n",
       "    <tr>\n",
       "      <th>5</th>\n",
       "      <td>Chairs</td>\n",
       "      <td>26590.1663</td>\n",
       "    </tr>\n",
       "    <tr>\n",
       "      <th>6</th>\n",
       "      <td>Storage</td>\n",
       "      <td>21278.8264</td>\n",
       "    </tr>\n",
       "    <tr>\n",
       "      <th>7</th>\n",
       "      <td>Appliances</td>\n",
       "      <td>18138.0054</td>\n",
       "    </tr>\n",
       "    <tr>\n",
       "      <th>8</th>\n",
       "      <td>Furnishings</td>\n",
       "      <td>13059.1436</td>\n",
       "    </tr>\n",
       "    <tr>\n",
       "      <th>9</th>\n",
       "      <td>Envelopes</td>\n",
       "      <td>6964.1767</td>\n",
       "    </tr>\n",
       "    <tr>\n",
       "      <th>10</th>\n",
       "      <td>Art</td>\n",
       "      <td>6527.7870</td>\n",
       "    </tr>\n",
       "    <tr>\n",
       "      <th>11</th>\n",
       "      <td>Labels</td>\n",
       "      <td>5546.2540</td>\n",
       "    </tr>\n",
       "    <tr>\n",
       "      <th>12</th>\n",
       "      <td>Machines</td>\n",
       "      <td>3384.7569</td>\n",
       "    </tr>\n",
       "    <tr>\n",
       "      <th>13</th>\n",
       "      <td>Fasteners</td>\n",
       "      <td>949.5182</td>\n",
       "    </tr>\n",
       "    <tr>\n",
       "      <th>14</th>\n",
       "      <td>Supplies</td>\n",
       "      <td>-1189.0995</td>\n",
       "    </tr>\n",
       "    <tr>\n",
       "      <th>15</th>\n",
       "      <td>Bookcases</td>\n",
       "      <td>-3472.5560</td>\n",
       "    </tr>\n",
       "    <tr>\n",
       "      <th>16</th>\n",
       "      <td>Tables</td>\n",
       "      <td>-17725.4811</td>\n",
       "    </tr>\n",
       "  </tbody>\n",
       "</table>\n",
       "</div>"
      ],
      "text/plain": [
       "   Sub-Category  sum_profit\n",
       "0       Copiers  55617.8249\n",
       "1        Phones  44515.7306\n",
       "2   Accessories  41936.6357\n",
       "3         Paper  34053.5693\n",
       "4       Binders  30221.7633\n",
       "5        Chairs  26590.1663\n",
       "6       Storage  21278.8264\n",
       "7    Appliances  18138.0054\n",
       "8   Furnishings  13059.1436\n",
       "9     Envelopes   6964.1767\n",
       "10          Art   6527.7870\n",
       "11       Labels   5546.2540\n",
       "12     Machines   3384.7569\n",
       "13    Fasteners    949.5182\n",
       "14     Supplies  -1189.0995\n",
       "15    Bookcases  -3472.5560\n",
       "16       Tables -17725.4811"
      ]
     },
     "execution_count": 25,
     "metadata": {},
     "output_type": "execute_result"
    }
   ],
   "source": [
    "sub_categories_profit = df.groupby('Sub-Category').agg(sum_profit=('Profit','sum')).reset_index()\n",
    "sub_categories_profit = sub_categories_profit.sort_values(by='sum_profit',ascending=False).reset_index(drop=True)\n",
    "sub_categories_profit"
   ]
  },
  {
   "cell_type": "markdown",
   "metadata": {},
   "source": [
    "Let's analyse the 3 previous tables.\n",
    "\n",
    "Copiers : the most expensive and the less popular product, but its is very profitable and brings the most money to the company. This sub-category is very important for the business, the company has already a good commercial strategy for this sub-category but it can be improved by increasing sales.\n",
    "\n",
    "Phones : popular product with high price and good profitability. This sub-category is performing well.\n",
    "\n",
    "Accessories : popular product with median price and high profitability. This sub-category is performing well.\n",
    "\n",
    "Paper : very popular and cheap product with very high profitability. This sub-category is performing well, but in avarage people buy 3 products by order. Because paper is very cheap and popular product, the company can easily increase the average number of units by order. For example, the company can propose 2+1 and 5+2 discount.\n",
    "\n",
    "Binders : the most popular product with median price and profitability. One of the reasons of it's popularity can be a high discount.This sub-category is performing well.\n",
    "\n",
    "Chairs: it is not the most profitable category but because the price is high and the the number of orders is relativly high this sub-category brings a lot of money. \n",
    "\n",
    "Storage : popular product with relativly high price and very small discount. This sub-category doesn't have the best profitability but it brings money to the business. The sub-strategy performance is good.\n",
    "\n",
    "Furnishings : the most profitable product in category \"Furniture\". It is popular and relativly cheap. The strategy can be improved by increasing the number of products by order.\n",
    "\n",
    "Envelops/Labels : very profitable products with low price. However, they are not very popular. Company should increase the number of orders in these sub-categories.\n",
    "\n",
    "Machines : expensive products with low profitability and popularity. This product don't bring a lot of money to the company. This sub-categoty is not performing well.\n",
    "\n",
    "Fasteners : the cheapest product with high profitability but low popularity. If the company will not sell machines anymore, fasteners should not be sold neither.\n",
    "\n",
    "Supplies : the sub-category is not profitable, it has a median price and low popularity. The sub-categoty is not performing well.\n",
    "\n",
    "Bookcases : the sub-category is not profitable and not very popular. It's price is already high. The sub-category is not performing well.\n",
    "\n",
    "Tables : the sub-category is not profitable and expensive. The sub-category is not performing well."
   ]
  },
  {
   "cell_type": "markdown",
   "metadata": {},
   "source": [
    "#### Discount analysis"
   ]
  },
  {
   "cell_type": "markdown",
   "metadata": {},
   "source": [
    "Let's analyse discount sensibility of buyers in each sub-category.\n",
    "We will create a new column \"Discount_2\":\n",
    "   - if the discount = 0 --> \"No\"\n",
    "   - if the discount > 0 --> \"Yes\"."
   ]
  },
  {
   "cell_type": "code",
   "execution_count": 11,
   "metadata": {},
   "outputs": [],
   "source": [
    "myfunction=lambda x: \"Yes\" if x>0 else \"No\""
   ]
  },
  {
   "cell_type": "code",
   "execution_count": 14,
   "metadata": {},
   "outputs": [
    {
     "data": {
      "text/html": [
       "<div>\n",
       "<style scoped>\n",
       "    .dataframe tbody tr th:only-of-type {\n",
       "        vertical-align: middle;\n",
       "    }\n",
       "\n",
       "    .dataframe tbody tr th {\n",
       "        vertical-align: top;\n",
       "    }\n",
       "\n",
       "    .dataframe thead th {\n",
       "        text-align: right;\n",
       "    }\n",
       "</style>\n",
       "<table border=\"1\" class=\"dataframe\">\n",
       "  <thead>\n",
       "    <tr style=\"text-align: right;\">\n",
       "      <th></th>\n",
       "      <th>Order ID</th>\n",
       "      <th>Order Date</th>\n",
       "      <th>Order Year</th>\n",
       "      <th>Order Quarter</th>\n",
       "      <th>Ship Date</th>\n",
       "      <th>Ship Mode</th>\n",
       "      <th>Customer ID</th>\n",
       "      <th>Customer Name</th>\n",
       "      <th>Segment</th>\n",
       "      <th>Country</th>\n",
       "      <th>...</th>\n",
       "      <th>Category</th>\n",
       "      <th>Sub-Category</th>\n",
       "      <th>Product Name</th>\n",
       "      <th>Sales</th>\n",
       "      <th>Quantity</th>\n",
       "      <th>Discount</th>\n",
       "      <th>Profit</th>\n",
       "      <th>Price</th>\n",
       "      <th>Profit ratio_single sale</th>\n",
       "      <th>Discount_2</th>\n",
       "    </tr>\n",
       "  </thead>\n",
       "  <tbody>\n",
       "    <tr>\n",
       "      <th>0</th>\n",
       "      <td>CA-2018-152156</td>\n",
       "      <td>08/11/2018</td>\n",
       "      <td>2018</td>\n",
       "      <td>3</td>\n",
       "      <td>11/11/2018</td>\n",
       "      <td>Second Class</td>\n",
       "      <td>CG-12520</td>\n",
       "      <td>Claire Gute</td>\n",
       "      <td>Consumer</td>\n",
       "      <td>United States</td>\n",
       "      <td>...</td>\n",
       "      <td>Furniture</td>\n",
       "      <td>Bookcases</td>\n",
       "      <td>Bush Somerset Collection Bookcase</td>\n",
       "      <td>261.9600</td>\n",
       "      <td>2</td>\n",
       "      <td>0.00</td>\n",
       "      <td>41.9136</td>\n",
       "      <td>130.9800</td>\n",
       "      <td>0.1600</td>\n",
       "      <td>No</td>\n",
       "    </tr>\n",
       "    <tr>\n",
       "      <th>1</th>\n",
       "      <td>CA-2018-152156</td>\n",
       "      <td>08/11/2018</td>\n",
       "      <td>2018</td>\n",
       "      <td>3</td>\n",
       "      <td>11/11/2018</td>\n",
       "      <td>Second Class</td>\n",
       "      <td>CG-12520</td>\n",
       "      <td>Claire Gute</td>\n",
       "      <td>Consumer</td>\n",
       "      <td>United States</td>\n",
       "      <td>...</td>\n",
       "      <td>Furniture</td>\n",
       "      <td>Chairs</td>\n",
       "      <td>Hon Deluxe Fabric Upholstered Stacking Chairs,...</td>\n",
       "      <td>731.9400</td>\n",
       "      <td>3</td>\n",
       "      <td>0.00</td>\n",
       "      <td>219.5820</td>\n",
       "      <td>243.9800</td>\n",
       "      <td>0.3000</td>\n",
       "      <td>No</td>\n",
       "    </tr>\n",
       "    <tr>\n",
       "      <th>2</th>\n",
       "      <td>CA-2018-138688</td>\n",
       "      <td>12/06/2018</td>\n",
       "      <td>2018</td>\n",
       "      <td>4</td>\n",
       "      <td>16/06/2018</td>\n",
       "      <td>Second Class</td>\n",
       "      <td>DV-13045</td>\n",
       "      <td>Darrin Van Huff</td>\n",
       "      <td>Corporate</td>\n",
       "      <td>United States</td>\n",
       "      <td>...</td>\n",
       "      <td>Office Supplies</td>\n",
       "      <td>Labels</td>\n",
       "      <td>Self-Adhesive Address Labels for Typewriters b...</td>\n",
       "      <td>14.6200</td>\n",
       "      <td>2</td>\n",
       "      <td>0.00</td>\n",
       "      <td>6.8714</td>\n",
       "      <td>7.3100</td>\n",
       "      <td>0.4700</td>\n",
       "      <td>No</td>\n",
       "    </tr>\n",
       "    <tr>\n",
       "      <th>3</th>\n",
       "      <td>US-2017-108966</td>\n",
       "      <td>11/10/2017</td>\n",
       "      <td>2017</td>\n",
       "      <td>4</td>\n",
       "      <td>18/10/2017</td>\n",
       "      <td>Standard Class</td>\n",
       "      <td>SO-20335</td>\n",
       "      <td>Sean O'Donnell</td>\n",
       "      <td>Consumer</td>\n",
       "      <td>United States</td>\n",
       "      <td>...</td>\n",
       "      <td>Furniture</td>\n",
       "      <td>Tables</td>\n",
       "      <td>Bretford CR4500 Series Slim Rectangular Table</td>\n",
       "      <td>957.5775</td>\n",
       "      <td>5</td>\n",
       "      <td>0.45</td>\n",
       "      <td>-383.0310</td>\n",
       "      <td>191.5155</td>\n",
       "      <td>-0.4000</td>\n",
       "      <td>Yes</td>\n",
       "    </tr>\n",
       "    <tr>\n",
       "      <th>4</th>\n",
       "      <td>US-2017-108966</td>\n",
       "      <td>11/10/2017</td>\n",
       "      <td>2017</td>\n",
       "      <td>4</td>\n",
       "      <td>18/10/2017</td>\n",
       "      <td>Standard Class</td>\n",
       "      <td>SO-20335</td>\n",
       "      <td>Sean O'Donnell</td>\n",
       "      <td>Consumer</td>\n",
       "      <td>United States</td>\n",
       "      <td>...</td>\n",
       "      <td>Office Supplies</td>\n",
       "      <td>Storage</td>\n",
       "      <td>Eldon Fold 'N Roll Cart System</td>\n",
       "      <td>22.3680</td>\n",
       "      <td>2</td>\n",
       "      <td>0.20</td>\n",
       "      <td>2.5164</td>\n",
       "      <td>11.1840</td>\n",
       "      <td>0.1125</td>\n",
       "      <td>Yes</td>\n",
       "    </tr>\n",
       "    <tr>\n",
       "      <th>5</th>\n",
       "      <td>CA-2016-115812</td>\n",
       "      <td>09/06/2016</td>\n",
       "      <td>2016</td>\n",
       "      <td>3</td>\n",
       "      <td>14/06/2016</td>\n",
       "      <td>Standard Class</td>\n",
       "      <td>BH-11710</td>\n",
       "      <td>Brosina Hoffman</td>\n",
       "      <td>Consumer</td>\n",
       "      <td>United States</td>\n",
       "      <td>...</td>\n",
       "      <td>Furniture</td>\n",
       "      <td>Furnishings</td>\n",
       "      <td>Eldon Expressions Wood and Plastic Desk Access...</td>\n",
       "      <td>48.8600</td>\n",
       "      <td>7</td>\n",
       "      <td>0.00</td>\n",
       "      <td>14.1694</td>\n",
       "      <td>6.9800</td>\n",
       "      <td>0.2900</td>\n",
       "      <td>No</td>\n",
       "    </tr>\n",
       "    <tr>\n",
       "      <th>6</th>\n",
       "      <td>CA-2016-115812</td>\n",
       "      <td>09/06/2016</td>\n",
       "      <td>2016</td>\n",
       "      <td>3</td>\n",
       "      <td>14/06/2016</td>\n",
       "      <td>Standard Class</td>\n",
       "      <td>BH-11710</td>\n",
       "      <td>Brosina Hoffman</td>\n",
       "      <td>Consumer</td>\n",
       "      <td>United States</td>\n",
       "      <td>...</td>\n",
       "      <td>Office Supplies</td>\n",
       "      <td>Art</td>\n",
       "      <td>Newell 322</td>\n",
       "      <td>7.2800</td>\n",
       "      <td>4</td>\n",
       "      <td>0.00</td>\n",
       "      <td>1.9656</td>\n",
       "      <td>1.8200</td>\n",
       "      <td>0.2700</td>\n",
       "      <td>No</td>\n",
       "    </tr>\n",
       "    <tr>\n",
       "      <th>7</th>\n",
       "      <td>CA-2016-115812</td>\n",
       "      <td>09/06/2016</td>\n",
       "      <td>2016</td>\n",
       "      <td>3</td>\n",
       "      <td>14/06/2016</td>\n",
       "      <td>Standard Class</td>\n",
       "      <td>BH-11710</td>\n",
       "      <td>Brosina Hoffman</td>\n",
       "      <td>Consumer</td>\n",
       "      <td>United States</td>\n",
       "      <td>...</td>\n",
       "      <td>Technology</td>\n",
       "      <td>Phones</td>\n",
       "      <td>Mitel 5320 IP Phone VoIP phone</td>\n",
       "      <td>907.1520</td>\n",
       "      <td>6</td>\n",
       "      <td>0.20</td>\n",
       "      <td>90.7152</td>\n",
       "      <td>151.1920</td>\n",
       "      <td>0.1000</td>\n",
       "      <td>Yes</td>\n",
       "    </tr>\n",
       "    <tr>\n",
       "      <th>8</th>\n",
       "      <td>CA-2016-115812</td>\n",
       "      <td>09/06/2016</td>\n",
       "      <td>2016</td>\n",
       "      <td>3</td>\n",
       "      <td>14/06/2016</td>\n",
       "      <td>Standard Class</td>\n",
       "      <td>BH-11710</td>\n",
       "      <td>Brosina Hoffman</td>\n",
       "      <td>Consumer</td>\n",
       "      <td>United States</td>\n",
       "      <td>...</td>\n",
       "      <td>Office Supplies</td>\n",
       "      <td>Binders</td>\n",
       "      <td>DXL Angle-View Binders with Locking Rings by S...</td>\n",
       "      <td>18.5040</td>\n",
       "      <td>3</td>\n",
       "      <td>0.20</td>\n",
       "      <td>5.7825</td>\n",
       "      <td>6.1680</td>\n",
       "      <td>0.3125</td>\n",
       "      <td>Yes</td>\n",
       "    </tr>\n",
       "    <tr>\n",
       "      <th>9</th>\n",
       "      <td>CA-2016-115812</td>\n",
       "      <td>09/06/2016</td>\n",
       "      <td>2016</td>\n",
       "      <td>3</td>\n",
       "      <td>14/06/2016</td>\n",
       "      <td>Standard Class</td>\n",
       "      <td>BH-11710</td>\n",
       "      <td>Brosina Hoffman</td>\n",
       "      <td>Consumer</td>\n",
       "      <td>United States</td>\n",
       "      <td>...</td>\n",
       "      <td>Office Supplies</td>\n",
       "      <td>Appliances</td>\n",
       "      <td>Belkin F5C206VTEL 6 Outlet Surge</td>\n",
       "      <td>114.9000</td>\n",
       "      <td>5</td>\n",
       "      <td>0.00</td>\n",
       "      <td>34.4700</td>\n",
       "      <td>22.9800</td>\n",
       "      <td>0.3000</td>\n",
       "      <td>No</td>\n",
       "    </tr>\n",
       "  </tbody>\n",
       "</table>\n",
       "<p>10 rows × 25 columns</p>\n",
       "</div>"
      ],
      "text/plain": [
       "         Order ID  Order Date  Order Year  Order Quarter   Ship Date  \\\n",
       "0  CA-2018-152156  08/11/2018        2018              3  11/11/2018   \n",
       "1  CA-2018-152156  08/11/2018        2018              3  11/11/2018   \n",
       "2  CA-2018-138688  12/06/2018        2018              4  16/06/2018   \n",
       "3  US-2017-108966  11/10/2017        2017              4  18/10/2017   \n",
       "4  US-2017-108966  11/10/2017        2017              4  18/10/2017   \n",
       "5  CA-2016-115812  09/06/2016        2016              3  14/06/2016   \n",
       "6  CA-2016-115812  09/06/2016        2016              3  14/06/2016   \n",
       "7  CA-2016-115812  09/06/2016        2016              3  14/06/2016   \n",
       "8  CA-2016-115812  09/06/2016        2016              3  14/06/2016   \n",
       "9  CA-2016-115812  09/06/2016        2016              3  14/06/2016   \n",
       "\n",
       "        Ship Mode Customer ID    Customer Name    Segment        Country  ...  \\\n",
       "0    Second Class    CG-12520      Claire Gute   Consumer  United States  ...   \n",
       "1    Second Class    CG-12520      Claire Gute   Consumer  United States  ...   \n",
       "2    Second Class    DV-13045  Darrin Van Huff  Corporate  United States  ...   \n",
       "3  Standard Class    SO-20335   Sean O'Donnell   Consumer  United States  ...   \n",
       "4  Standard Class    SO-20335   Sean O'Donnell   Consumer  United States  ...   \n",
       "5  Standard Class    BH-11710  Brosina Hoffman   Consumer  United States  ...   \n",
       "6  Standard Class    BH-11710  Brosina Hoffman   Consumer  United States  ...   \n",
       "7  Standard Class    BH-11710  Brosina Hoffman   Consumer  United States  ...   \n",
       "8  Standard Class    BH-11710  Brosina Hoffman   Consumer  United States  ...   \n",
       "9  Standard Class    BH-11710  Brosina Hoffman   Consumer  United States  ...   \n",
       "\n",
       "          Category Sub-Category  \\\n",
       "0        Furniture    Bookcases   \n",
       "1        Furniture       Chairs   \n",
       "2  Office Supplies       Labels   \n",
       "3        Furniture       Tables   \n",
       "4  Office Supplies      Storage   \n",
       "5        Furniture  Furnishings   \n",
       "6  Office Supplies          Art   \n",
       "7       Technology       Phones   \n",
       "8  Office Supplies      Binders   \n",
       "9  Office Supplies   Appliances   \n",
       "\n",
       "                                        Product Name     Sales Quantity  \\\n",
       "0                  Bush Somerset Collection Bookcase  261.9600        2   \n",
       "1  Hon Deluxe Fabric Upholstered Stacking Chairs,...  731.9400        3   \n",
       "2  Self-Adhesive Address Labels for Typewriters b...   14.6200        2   \n",
       "3      Bretford CR4500 Series Slim Rectangular Table  957.5775        5   \n",
       "4                     Eldon Fold 'N Roll Cart System   22.3680        2   \n",
       "5  Eldon Expressions Wood and Plastic Desk Access...   48.8600        7   \n",
       "6                                         Newell 322    7.2800        4   \n",
       "7                     Mitel 5320 IP Phone VoIP phone  907.1520        6   \n",
       "8  DXL Angle-View Binders with Locking Rings by S...   18.5040        3   \n",
       "9                   Belkin F5C206VTEL 6 Outlet Surge  114.9000        5   \n",
       "\n",
       "  Discount    Profit     Price  Profit ratio_single sale  Discount_2  \n",
       "0     0.00   41.9136  130.9800                    0.1600          No  \n",
       "1     0.00  219.5820  243.9800                    0.3000          No  \n",
       "2     0.00    6.8714    7.3100                    0.4700          No  \n",
       "3     0.45 -383.0310  191.5155                   -0.4000         Yes  \n",
       "4     0.20    2.5164   11.1840                    0.1125         Yes  \n",
       "5     0.00   14.1694    6.9800                    0.2900          No  \n",
       "6     0.00    1.9656    1.8200                    0.2700          No  \n",
       "7     0.20   90.7152  151.1920                    0.1000         Yes  \n",
       "8     0.20    5.7825    6.1680                    0.3125         Yes  \n",
       "9     0.00   34.4700   22.9800                    0.3000          No  \n",
       "\n",
       "[10 rows x 25 columns]"
      ]
     },
     "execution_count": 14,
     "metadata": {},
     "output_type": "execute_result"
    }
   ],
   "source": [
    "df['Discount_2']=df.Discount.apply(myfunction)\n",
    "df.head(10)"
   ]
  },
  {
   "cell_type": "markdown",
   "metadata": {},
   "source": [
    "Now we can count the number of units sold in each sub-category with and withount discount."
   ]
  },
  {
   "cell_type": "code",
   "execution_count": 31,
   "metadata": {
    "scrolled": true
   },
   "outputs": [
    {
     "data": {
      "text/html": [
       "<div>\n",
       "<style scoped>\n",
       "    .dataframe tbody tr th:only-of-type {\n",
       "        vertical-align: middle;\n",
       "    }\n",
       "\n",
       "    .dataframe tbody tr th {\n",
       "        vertical-align: top;\n",
       "    }\n",
       "\n",
       "    .dataframe thead th {\n",
       "        text-align: right;\n",
       "    }\n",
       "</style>\n",
       "<table border=\"1\" class=\"dataframe\">\n",
       "  <thead>\n",
       "    <tr style=\"text-align: right;\">\n",
       "      <th>Discount_2</th>\n",
       "      <th>No</th>\n",
       "      <th>Yes</th>\n",
       "      <th>% No</th>\n",
       "      <th>% Yes</th>\n",
       "    </tr>\n",
       "    <tr>\n",
       "      <th>Sub-Category</th>\n",
       "      <th></th>\n",
       "      <th></th>\n",
       "      <th></th>\n",
       "      <th></th>\n",
       "    </tr>\n",
       "  </thead>\n",
       "  <tbody>\n",
       "    <tr>\n",
       "      <th>Accessories</th>\n",
       "      <td>1835</td>\n",
       "      <td>1141</td>\n",
       "      <td>61.659946</td>\n",
       "      <td>38.340054</td>\n",
       "    </tr>\n",
       "    <tr>\n",
       "      <th>Appliances</th>\n",
       "      <td>1021</td>\n",
       "      <td>708</td>\n",
       "      <td>59.051475</td>\n",
       "      <td>40.948525</td>\n",
       "    </tr>\n",
       "    <tr>\n",
       "      <th>Art</th>\n",
       "      <td>1904</td>\n",
       "      <td>1096</td>\n",
       "      <td>63.466667</td>\n",
       "      <td>36.533333</td>\n",
       "    </tr>\n",
       "    <tr>\n",
       "      <th>Binders</th>\n",
       "      <td>1291</td>\n",
       "      <td>4683</td>\n",
       "      <td>21.610311</td>\n",
       "      <td>78.389689</td>\n",
       "    </tr>\n",
       "    <tr>\n",
       "      <th>Bookcases</th>\n",
       "      <td>211</td>\n",
       "      <td>657</td>\n",
       "      <td>24.308756</td>\n",
       "      <td>75.691244</td>\n",
       "    </tr>\n",
       "    <tr>\n",
       "      <th>Chairs</th>\n",
       "      <td>540</td>\n",
       "      <td>1816</td>\n",
       "      <td>22.920204</td>\n",
       "      <td>77.079796</td>\n",
       "    </tr>\n",
       "    <tr>\n",
       "      <th>Copiers</th>\n",
       "      <td>82</td>\n",
       "      <td>152</td>\n",
       "      <td>35.042735</td>\n",
       "      <td>64.957265</td>\n",
       "    </tr>\n",
       "    <tr>\n",
       "      <th>Envelopes</th>\n",
       "      <td>548</td>\n",
       "      <td>358</td>\n",
       "      <td>60.485651</td>\n",
       "      <td>39.514349</td>\n",
       "    </tr>\n",
       "    <tr>\n",
       "      <th>Fasteners</th>\n",
       "      <td>504</td>\n",
       "      <td>410</td>\n",
       "      <td>55.142232</td>\n",
       "      <td>44.857768</td>\n",
       "    </tr>\n",
       "    <tr>\n",
       "      <th>Furnishings</th>\n",
       "      <td>2163</td>\n",
       "      <td>1400</td>\n",
       "      <td>60.707269</td>\n",
       "      <td>39.292731</td>\n",
       "    </tr>\n",
       "    <tr>\n",
       "      <th>Labels</th>\n",
       "      <td>945</td>\n",
       "      <td>455</td>\n",
       "      <td>67.500000</td>\n",
       "      <td>32.500000</td>\n",
       "    </tr>\n",
       "    <tr>\n",
       "      <th>Machines</th>\n",
       "      <td>138</td>\n",
       "      <td>302</td>\n",
       "      <td>31.363636</td>\n",
       "      <td>68.636364</td>\n",
       "    </tr>\n",
       "    <tr>\n",
       "      <th>Paper</th>\n",
       "      <td>3229</td>\n",
       "      <td>1949</td>\n",
       "      <td>62.359985</td>\n",
       "      <td>37.640015</td>\n",
       "    </tr>\n",
       "    <tr>\n",
       "      <th>Phones</th>\n",
       "      <td>1102</td>\n",
       "      <td>2187</td>\n",
       "      <td>33.505625</td>\n",
       "      <td>66.494375</td>\n",
       "    </tr>\n",
       "    <tr>\n",
       "      <th>Storage</th>\n",
       "      <td>2044</td>\n",
       "      <td>1114</td>\n",
       "      <td>64.724509</td>\n",
       "      <td>35.275491</td>\n",
       "    </tr>\n",
       "    <tr>\n",
       "      <th>Supplies</th>\n",
       "      <td>400</td>\n",
       "      <td>247</td>\n",
       "      <td>61.823802</td>\n",
       "      <td>38.176198</td>\n",
       "    </tr>\n",
       "    <tr>\n",
       "      <th>Tables</th>\n",
       "      <td>310</td>\n",
       "      <td>931</td>\n",
       "      <td>24.979855</td>\n",
       "      <td>75.020145</td>\n",
       "    </tr>\n",
       "  </tbody>\n",
       "</table>\n",
       "</div>"
      ],
      "text/plain": [
       "Discount_2      No   Yes       % No      % Yes\n",
       "Sub-Category                                  \n",
       "Accessories   1835  1141  61.659946  38.340054\n",
       "Appliances    1021   708  59.051475  40.948525\n",
       "Art           1904  1096  63.466667  36.533333\n",
       "Binders       1291  4683  21.610311  78.389689\n",
       "Bookcases      211   657  24.308756  75.691244\n",
       "Chairs         540  1816  22.920204  77.079796\n",
       "Copiers         82   152  35.042735  64.957265\n",
       "Envelopes      548   358  60.485651  39.514349\n",
       "Fasteners      504   410  55.142232  44.857768\n",
       "Furnishings   2163  1400  60.707269  39.292731\n",
       "Labels         945   455  67.500000  32.500000\n",
       "Machines       138   302  31.363636  68.636364\n",
       "Paper         3229  1949  62.359985  37.640015\n",
       "Phones        1102  2187  33.505625  66.494375\n",
       "Storage       2044  1114  64.724509  35.275491\n",
       "Supplies       400   247  61.823802  38.176198\n",
       "Tables         310   931  24.979855  75.020145"
      ]
     },
     "execution_count": 31,
     "metadata": {},
     "output_type": "execute_result"
    }
   ],
   "source": [
    "discount_table = df.groupby([\"Discount_2\",\"Sub-Category\"]).agg(sum_products_sold=('Quantity','sum')).reset_index()\n",
    "discount_table_pivot=discount_table.pivot(columns='Discount_2',\n",
    "                                          index='Sub-Category',\n",
    "                                          values='sum_products_sold'\n",
    "                                          )\n",
    "discount_table_pivot['% No']= discount_table_pivot.No/(discount_table_pivot.No+discount_table_pivot.Yes)*100\n",
    "discount_table_pivot['% Yes']= discount_table_pivot.Yes/(discount_table_pivot.No+discount_table_pivot.Yes)*100\n",
    "discount_table_pivot"
   ]
  },
  {
   "cell_type": "markdown",
   "metadata": {},
   "source": [
    "Discount sensible sub-categories are Binders, Bookcases, Chairs, Copiers, Tables.\n",
    "We made a hypothesis that the popularity of Binders is due to the discount, it is true. The company should keep the same commercial stategy for this sub-category because the high discount increases the sales and brings profit.\n",
    "\n",
    "We saw that the profitability and the popularity of Bookcases was low. To increase the profitability the company needs to increase price (but it is already high) or dicrease the discount (but most of the buyers seem to be motivated by the high discount which is around 20%).\n",
    "\n",
    "Most of the sales of copiers are motivated by the discount. This sub-categoty is already very profitable but not enough popular. The average discount is 16%, the company can increase the discount even more to motivate people to buy more copiers. The products will remain profitable and bring more money to the company.\n",
    "\n",
    "We said that chairs are expensive products and have relativly high discount (17%), we can see that most of the sales are motivated by the discount. This category is very important for the company because it brings a lot of money. To get even more money the company needs to increase the profitability the sub-category by decreasing costs.\n",
    "\n",
    "Tables is the most unprofitable category. Products are expensive and most of the sales are motivated by a high discount (27%). \n",
    "\n",
    "Supplies' and Fasteners' sales seem to be less motivated by the discount. The compagny should decrease the discount for these sub-categories, this measure will increase the profitability but not impact the popularity of the products.\n",
    "\n",
    "We suggested to increase the sales of Envelops and Labels. Here we can see that their sales are not very motivated by the discount which is very low (<10%). The company can try to propose a higher discount too increase sales. The profitability will remain high and these sub-categories will probably bring more money.  "
   ]
  },
  {
   "cell_type": "markdown",
   "metadata": {},
   "source": [
    "#### Association rules"
   ]
  },
  {
   "cell_type": "markdown",
   "metadata": {},
   "source": [
    "We want to know if some unprofitable sub-categories can push the consumer to buy products in profitable sub-categories. To know it we will apply the method of association rules to our database. First, we create a list of baskets."
   ]
  },
  {
   "cell_type": "code",
   "execution_count": 4,
   "metadata": {},
   "outputs": [],
   "source": [
    "my_list=[]\n",
    "for x in (df['Order ID'].unique()):\n",
    "    subdf=df[df['Order ID']==x]\n",
    "    my_list.append([str(df.values[j,16]) for j in range(0,len(subdf))])"
   ]
  },
  {
   "cell_type": "code",
   "execution_count": 29,
   "metadata": {},
   "outputs": [
    {
     "name": "stdout",
     "output_type": "stream",
     "text": [
      "['Bookcases', 'Chairs']\n"
     ]
    }
   ],
   "source": [
    "print(my_list[0])"
   ]
  },
  {
   "cell_type": "markdown",
   "metadata": {},
   "source": [
    "For exemple, the first basket is composed of products from 2 sub-categories : Bookcases and Chairs."
   ]
  },
  {
   "cell_type": "code",
   "execution_count": 62,
   "metadata": {},
   "outputs": [],
   "source": [
    "num=[]\n",
    "for x in my_list:\n",
    "    num.append(len(x))"
   ]
  },
  {
   "cell_type": "code",
   "execution_count": 64,
   "metadata": {},
   "outputs": [
    {
     "data": {
      "text/plain": [
       "5009"
      ]
     },
     "execution_count": 64,
     "metadata": {},
     "output_type": "execute_result"
    }
   ],
   "source": [
    "len(num)"
   ]
  },
  {
   "cell_type": "code",
   "execution_count": 65,
   "metadata": {},
   "outputs": [
    {
     "data": {
      "text/plain": [
       "1"
      ]
     },
     "execution_count": 65,
     "metadata": {},
     "output_type": "execute_result"
    }
   ],
   "source": [
    "min(num)"
   ]
  },
  {
   "cell_type": "code",
   "execution_count": 94,
   "metadata": {},
   "outputs": [
    {
     "data": {
      "text/plain": [
       "14"
      ]
     },
     "execution_count": 94,
     "metadata": {},
     "output_type": "execute_result"
    }
   ],
   "source": [
    "max(num)"
   ]
  },
  {
   "cell_type": "markdown",
   "metadata": {},
   "source": [
    "Number of orders in 4 years : 5009.\n",
    "\n",
    "Consumer buy between 1 and 14 different (different sub-categories) products by order."
   ]
  },
  {
   "cell_type": "code",
   "execution_count": 71,
   "metadata": {
    "scrolled": true
   },
   "outputs": [
    {
     "name": "stdout",
     "output_type": "stream",
     "text": [
      "Requirement already satisfied: apyori in c:\\users\\haan\\anaconda3\\lib\\site-packages (1.1.2)\n",
      "Note: you may need to restart the kernel to use updated packages.\n"
     ]
    }
   ],
   "source": [
    "pip install apyori"
   ]
  },
  {
   "cell_type": "code",
   "execution_count": 5,
   "metadata": {},
   "outputs": [],
   "source": [
    "import numpy as np\n",
    "import pandas as pd\n",
    "from apyori import apriori"
   ]
  },
  {
   "cell_type": "markdown",
   "metadata": {},
   "source": [
    "Then we use the apriori algorithm. The minimum support is 0.0068 (the less popular sub-category was sold 68 times, in total there are 9994 orders, 66/9994=0.0068) and the minimum lift is 2 (A->B, the consumer buy A and B at least 2 times more ofter than B)."
   ]
  },
  {
   "cell_type": "code",
   "execution_count": 11,
   "metadata": {},
   "outputs": [],
   "source": [
    "association_rules=apriori(my_list, min_support=0.0068, min_lift=2, min_length=2, max_length=2)"
   ]
  },
  {
   "cell_type": "code",
   "execution_count": 12,
   "metadata": {},
   "outputs": [
    {
     "name": "stdout",
     "output_type": "stream",
     "text": [
      "Rule: Chairs -> Art\n",
      "Support: 0.016769814334198444\n",
      "Confidence: 1.0\n",
      "Lift: 2.027114528530959\n",
      "=====================================\n",
      "Rule: Furnishings -> Art\n",
      "Support: 0.016769814334198444\n",
      "Confidence: 1.0\n",
      "Lift: 32.52597402597403\n",
      "=====================================\n",
      "Rule: Labels -> Art\n",
      "Support: 0.016769814334198444\n",
      "Confidence: 1.0\n",
      "Lift: 4.003996802557953\n",
      "=====================================\n",
      "Rule: Storage -> Art\n",
      "Support: 0.016769814334198444\n",
      "Confidence: 1.0\n",
      "Lift: 16.05448717948718\n",
      "=====================================\n",
      "Rule: Tables -> Art\n",
      "Support: 0.016769814334198444\n",
      "Confidence: 1.0\n",
      "Lift: 7.729938271604937\n",
      "=====================================\n",
      "Rule: Furnishings -> Chairs\n",
      "Support: 0.030744659612697144\n",
      "Confidence: 0.06232294617563739\n",
      "Lift: 2.027114528530959\n",
      "=====================================\n",
      "Rule: Chairs -> Labels\n",
      "Support: 0.2497504491914554\n",
      "Confidence: 0.5062727640631324\n",
      "Lift: 2.027114528530959\n",
      "=====================================\n",
      "Rule: Storage -> Chairs\n",
      "Support: 0.062287881812737075\n",
      "Confidence: 0.12626467017401863\n",
      "Lift: 2.027114528530959\n",
      "=====================================\n",
      "Rule: Tables -> Chairs\n",
      "Support: 0.12936713914953085\n",
      "Confidence: 0.2622420072845002\n",
      "Lift: 2.027114528530959\n",
      "=====================================\n",
      "Rule: Furnishings -> Labels\n",
      "Support: 0.030744659612697144\n",
      "Confidence: 1.0\n",
      "Lift: 4.003996802557953\n",
      "=====================================\n",
      "Rule: Storage -> Furnishings\n",
      "Support: 0.030744659612697144\n",
      "Confidence: 1.0\n",
      "Lift: 16.05448717948718\n",
      "=====================================\n",
      "Rule: Tables -> Furnishings\n",
      "Support: 0.030744659612697144\n",
      "Confidence: 1.0\n",
      "Lift: 7.729938271604937\n",
      "=====================================\n",
      "Rule: Storage -> Labels\n",
      "Support: 0.062287881812737075\n",
      "Confidence: 0.24940047961630696\n",
      "Lift: 4.003996802557953\n",
      "=====================================\n",
      "Rule: Tables -> Labels\n",
      "Support: 0.12936713914953085\n",
      "Confidence: 0.5179856115107914\n",
      "Lift: 4.003996802557953\n",
      "=====================================\n",
      "Rule: Storage -> Tables\n",
      "Support: 0.062287881812737075\n",
      "Confidence: 1.0\n",
      "Lift: 7.729938271604937\n",
      "=====================================\n"
     ]
    }
   ],
   "source": [
    "for item in association_rules:\n",
    "\n",
    "    # first index of the inner list\n",
    "    # Contains base item and add item\n",
    "    pair = item[0] \n",
    "    items = [x for x in pair]\n",
    "    print(\"Rule: \" + items[0] + \" -> \" + items[1])\n",
    "\n",
    "    #second index of the inner list\n",
    "    print(\"Support: \" + str(item[1]))\n",
    "\n",
    "    #third index of the list located at 0th\n",
    "    #of the third index of the inner list\n",
    "\n",
    "    print(\"Confidence: \" + str(item[2][0][2]))\n",
    "    print(\"Lift: \" + str(item[2][0][3]))\n",
    "    print(\"=====================================\")"
   ]
  },
  {
   "cell_type": "markdown",
   "metadata": {},
   "source": [
    "According to the results even though Tables are unprofitable sub-category, they are often bought with other profitable products like Chairs and Labels. It means that the company should keep the same strategy for this sub-category."
   ]
  },
  {
   "cell_type": "markdown",
   "metadata": {},
   "source": [
    "Now let's increase the granularity and focus on products in the remaining unprofitable categories: Machines, Fasteners, Supplies and Bookcases."
   ]
  },
  {
   "cell_type": "markdown",
   "metadata": {},
   "source": [
    "#### Analyse the profit of each product"
   ]
  },
  {
   "cell_type": "code",
   "execution_count": 16,
   "metadata": {
    "scrolled": true
   },
   "outputs": [
    {
     "data": {
      "text/plain": [
       "<AxesSubplot:xlabel='Product Name', ylabel='Profit_ratio'>"
      ]
     },
     "execution_count": 16,
     "metadata": {},
     "output_type": "execute_result"
    },
    {
     "data": {
      "image/png": "[encoded data removed]",
      "text/plain": [
       "<Figure size 1152x576 with 1 Axes>"
      ]
     },
     "metadata": {
      "needs_background": "light"
     },
     "output_type": "display_data"
    }
   ],
   "source": [
    "df_unprofitable=df[df['Sub-Category'].isin (['Machines', 'Bookcases', 'Supplies'])]\n",
    "profit_ratio_by_product=df_unprofitable.groupby(['Product Name','Sub-Category']).agg(Total_profit=('Profit','sum'),Total_sales=('Sales','sum')).reset_index()\n",
    "profit_ratio_by_product['Profit_ratio']=profit_ratio_by_product['Total_profit']/profit_ratio_by_product['Total_sales']\n",
    "profit_ratio_by_product=profit_ratio_by_product.sort_values(by='Profit_ratio',ascending=False)\n",
    "plt.figure( figsize=(16,8))\n",
    "sb.barplot(data=profit_ratio_by_product,x='Product Name',y='Profit_ratio', hue='Sub-Category',ci=None)"
   ]
  },
  {
   "cell_type": "markdown",
   "metadata": {},
   "source": [
    "Even though the graph seems to be very complicated we can easily read it. \n",
    "Machines is a very diversified sub-category, however most of the product have negative profitability and other products are not profitable enough to increase the performance of this sub-category. The company should abandone the unfprofitable products and increase the popularity of products with high profit ratio. \n",
    "\n",
    "Fasteners sub-category is important because the company sell machines and copiers. We can't don any significant changements in the business strategy of this sub-category (the price is already high and it can't be higher than the price of copiers/machines, the discount is low).  \n",
    "\n",
    "In Supplies sub-category most of the products are profitables. To increase the profitability of the sub-category the company should dicrease the discount and abandone the most unprofitable products.  \n",
    "\n",
    "Most of the bookcases are unprofitables. If we keep only profitable products, the choice will be very poor and the popularity of the category will drop down. This sub-category should be abandoned."
   ]
  },
  {
   "cell_type": "markdown",
   "metadata": {},
   "source": [
    "# Order/Customer analysis"
   ]
  },
  {
   "cell_type": "markdown",
   "metadata": {},
   "source": [
    "## Data frame creation"
   ]
  },
  {
   "cell_type": "code",
   "execution_count": 8,
   "metadata": {
    "scrolled": true
   },
   "outputs": [
    {
     "data": {
      "text/plain": [
       "Index(['Order_ID', 'Order_Date', 'Order_Year', 'Order_Quarter', 'Ship_Date',\n",
       "       'Ship_Mode', 'Customer_ID', 'Customer_Name', 'Segment', 'Country',\n",
       "       'City', 'State', 'Postal_Code', 'Region', 'Product_ID', 'Category',\n",
       "       'Sub-Category', 'Product_Name', 'Sales', 'Quantity', 'Discount',\n",
       "       'Profit', 'Price', 'Profit_ratio_single_sale'],\n",
       "      dtype='object')"
      ]
     },
     "execution_count": 8,
     "metadata": {},
     "output_type": "execute_result"
    }
   ],
   "source": [
    "dataset=df\n",
    "dataset.columns = dataset.columns.str.replace(\" \", \"_\")\n",
    "dataset.columns"
   ]
  },
  {
   "cell_type": "code",
   "execution_count": 87,
   "metadata": {},
   "outputs": [
    {
     "data": {
      "text/html": [
       "<div>\n",
       "<style scoped>\n",
       "    .dataframe tbody tr th:only-of-type {\n",
       "        vertical-align: middle;\n",
       "    }\n",
       "\n",
       "    .dataframe tbody tr th {\n",
       "        vertical-align: top;\n",
       "    }\n",
       "\n",
       "    .dataframe thead th {\n",
       "        text-align: right;\n",
       "    }\n",
       "</style>\n",
       "<table border=\"1\" class=\"dataframe\">\n",
       "  <thead>\n",
       "    <tr style=\"text-align: right;\">\n",
       "      <th></th>\n",
       "      <th>Order_ID</th>\n",
       "      <th>Order_Date</th>\n",
       "      <th>Customer_ID</th>\n",
       "      <th>Segment</th>\n",
       "      <th>State</th>\n",
       "      <th>Region</th>\n",
       "      <th>Category</th>\n",
       "      <th>Sub-Category</th>\n",
       "      <th>Sales</th>\n",
       "      <th>Quantity</th>\n",
       "      <th>Discount</th>\n",
       "      <th>Profit</th>\n",
       "      <th>Profit_Ratio</th>\n",
       "    </tr>\n",
       "  </thead>\n",
       "  <tbody>\n",
       "    <tr>\n",
       "      <th>0</th>\n",
       "      <td>CA-2016-100006</td>\n",
       "      <td>2016-09-07</td>\n",
       "      <td>DK-13375</td>\n",
       "      <td>Consumer</td>\n",
       "      <td>New York</td>\n",
       "      <td>East</td>\n",
       "      <td>1</td>\n",
       "      <td>1</td>\n",
       "      <td>377.970</td>\n",
       "      <td>3.000000</td>\n",
       "      <td>0.000000</td>\n",
       "      <td>109.6113</td>\n",
       "      <td>0.290000</td>\n",
       "    </tr>\n",
       "    <tr>\n",
       "      <th>1</th>\n",
       "      <td>CA-2016-100090</td>\n",
       "      <td>2016-07-08</td>\n",
       "      <td>EB-13705</td>\n",
       "      <td>Corporate</td>\n",
       "      <td>California</td>\n",
       "      <td>West</td>\n",
       "      <td>2</td>\n",
       "      <td>2</td>\n",
       "      <td>699.192</td>\n",
       "      <td>4.500000</td>\n",
       "      <td>0.200000</td>\n",
       "      <td>-19.0890</td>\n",
       "      <td>-0.027302</td>\n",
       "    </tr>\n",
       "    <tr>\n",
       "      <th>2</th>\n",
       "      <td>CA-2016-100293</td>\n",
       "      <td>2016-03-14</td>\n",
       "      <td>NF-18475</td>\n",
       "      <td>Home Office</td>\n",
       "      <td>Florida</td>\n",
       "      <td>South</td>\n",
       "      <td>1</td>\n",
       "      <td>1</td>\n",
       "      <td>91.056</td>\n",
       "      <td>6.000000</td>\n",
       "      <td>0.200000</td>\n",
       "      <td>31.8696</td>\n",
       "      <td>0.350000</td>\n",
       "    </tr>\n",
       "    <tr>\n",
       "      <th>3</th>\n",
       "      <td>CA-2016-100328</td>\n",
       "      <td>2016-01-28</td>\n",
       "      <td>JC-15340</td>\n",
       "      <td>Consumer</td>\n",
       "      <td>New York</td>\n",
       "      <td>East</td>\n",
       "      <td>1</td>\n",
       "      <td>1</td>\n",
       "      <td>3.928</td>\n",
       "      <td>1.000000</td>\n",
       "      <td>0.200000</td>\n",
       "      <td>1.3257</td>\n",
       "      <td>0.337500</td>\n",
       "    </tr>\n",
       "    <tr>\n",
       "      <th>4</th>\n",
       "      <td>CA-2016-100363</td>\n",
       "      <td>2016-04-08</td>\n",
       "      <td>JM-15655</td>\n",
       "      <td>Corporate</td>\n",
       "      <td>Arizona</td>\n",
       "      <td>West</td>\n",
       "      <td>1</td>\n",
       "      <td>2</td>\n",
       "      <td>21.376</td>\n",
       "      <td>2.500000</td>\n",
       "      <td>0.200000</td>\n",
       "      <td>7.7192</td>\n",
       "      <td>0.361115</td>\n",
       "    </tr>\n",
       "    <tr>\n",
       "      <th>...</th>\n",
       "      <td>...</td>\n",
       "      <td>...</td>\n",
       "      <td>...</td>\n",
       "      <td>...</td>\n",
       "      <td>...</td>\n",
       "      <td>...</td>\n",
       "      <td>...</td>\n",
       "      <td>...</td>\n",
       "      <td>...</td>\n",
       "      <td>...</td>\n",
       "      <td>...</td>\n",
       "      <td>...</td>\n",
       "      <td>...</td>\n",
       "    </tr>\n",
       "    <tr>\n",
       "      <th>5004</th>\n",
       "      <td>US-2019-168802</td>\n",
       "      <td>2019-11-03</td>\n",
       "      <td>JO-15145</td>\n",
       "      <td>Corporate</td>\n",
       "      <td>Washington</td>\n",
       "      <td>West</td>\n",
       "      <td>1</td>\n",
       "      <td>1</td>\n",
       "      <td>18.368</td>\n",
       "      <td>4.000000</td>\n",
       "      <td>0.200000</td>\n",
       "      <td>5.9696</td>\n",
       "      <td>0.325000</td>\n",
       "    </tr>\n",
       "    <tr>\n",
       "      <th>5005</th>\n",
       "      <td>US-2019-169320</td>\n",
       "      <td>2019-07-23</td>\n",
       "      <td>LH-16900</td>\n",
       "      <td>Consumer</td>\n",
       "      <td>Indiana</td>\n",
       "      <td>Central</td>\n",
       "      <td>2</td>\n",
       "      <td>2</td>\n",
       "      <td>171.430</td>\n",
       "      <td>3.500000</td>\n",
       "      <td>0.000000</td>\n",
       "      <td>16.6721</td>\n",
       "      <td>0.097253</td>\n",
       "    </tr>\n",
       "    <tr>\n",
       "      <th>5006</th>\n",
       "      <td>US-2019-169488</td>\n",
       "      <td>2019-09-07</td>\n",
       "      <td>AA-10375</td>\n",
       "      <td>Consumer</td>\n",
       "      <td>Rhode Island</td>\n",
       "      <td>East</td>\n",
       "      <td>1</td>\n",
       "      <td>1</td>\n",
       "      <td>56.860</td>\n",
       "      <td>3.500000</td>\n",
       "      <td>0.000000</td>\n",
       "      <td>26.5552</td>\n",
       "      <td>0.467028</td>\n",
       "    </tr>\n",
       "    <tr>\n",
       "      <th>5007</th>\n",
       "      <td>US-2019-169502</td>\n",
       "      <td>2019-08-28</td>\n",
       "      <td>MG-17650</td>\n",
       "      <td>Home Office</td>\n",
       "      <td>Wisconsin</td>\n",
       "      <td>Central</td>\n",
       "      <td>1</td>\n",
       "      <td>2</td>\n",
       "      <td>113.410</td>\n",
       "      <td>4.000000</td>\n",
       "      <td>0.000000</td>\n",
       "      <td>32.4527</td>\n",
       "      <td>0.286154</td>\n",
       "    </tr>\n",
       "    <tr>\n",
       "      <th>5008</th>\n",
       "      <td>US-2019-169551</td>\n",
       "      <td>2019-07-07</td>\n",
       "      <td>RL-19615</td>\n",
       "      <td>Consumer</td>\n",
       "      <td>Pennsylvania</td>\n",
       "      <td>East</td>\n",
       "      <td>3</td>\n",
       "      <td>5</td>\n",
       "      <td>1344.838</td>\n",
       "      <td>2.666667</td>\n",
       "      <td>0.283333</td>\n",
       "      <td>-62.2895</td>\n",
       "      <td>-0.046317</td>\n",
       "    </tr>\n",
       "  </tbody>\n",
       "</table>\n",
       "<p>5009 rows × 13 columns</p>\n",
       "</div>"
      ],
      "text/plain": [
       "            Order_ID Order_Date Customer_ID      Segment         State  \\\n",
       "0     CA-2016-100006 2016-09-07    DK-13375     Consumer      New York   \n",
       "1     CA-2016-100090 2016-07-08    EB-13705    Corporate    California   \n",
       "2     CA-2016-100293 2016-03-14    NF-18475  Home Office       Florida   \n",
       "3     CA-2016-100328 2016-01-28    JC-15340     Consumer      New York   \n",
       "4     CA-2016-100363 2016-04-08    JM-15655    Corporate       Arizona   \n",
       "...              ...        ...         ...          ...           ...   \n",
       "5004  US-2019-168802 2019-11-03    JO-15145    Corporate    Washington   \n",
       "5005  US-2019-169320 2019-07-23    LH-16900     Consumer       Indiana   \n",
       "5006  US-2019-169488 2019-09-07    AA-10375     Consumer  Rhode Island   \n",
       "5007  US-2019-169502 2019-08-28    MG-17650  Home Office     Wisconsin   \n",
       "5008  US-2019-169551 2019-07-07    RL-19615     Consumer  Pennsylvania   \n",
       "\n",
       "       Region  Category  Sub-Category     Sales  Quantity  Discount    Profit  \\\n",
       "0        East         1             1   377.970  3.000000  0.000000  109.6113   \n",
       "1        West         2             2   699.192  4.500000  0.200000  -19.0890   \n",
       "2       South         1             1    91.056  6.000000  0.200000   31.8696   \n",
       "3        East         1             1     3.928  1.000000  0.200000    1.3257   \n",
       "4        West         1             2    21.376  2.500000  0.200000    7.7192   \n",
       "...       ...       ...           ...       ...       ...       ...       ...   \n",
       "5004     West         1             1    18.368  4.000000  0.200000    5.9696   \n",
       "5005  Central         2             2   171.430  3.500000  0.000000   16.6721   \n",
       "5006     East         1             1    56.860  3.500000  0.000000   26.5552   \n",
       "5007  Central         1             2   113.410  4.000000  0.000000   32.4527   \n",
       "5008     East         3             5  1344.838  2.666667  0.283333  -62.2895   \n",
       "\n",
       "      Profit_Ratio  \n",
       "0         0.290000  \n",
       "1        -0.027302  \n",
       "2         0.350000  \n",
       "3         0.337500  \n",
       "4         0.361115  \n",
       "...            ...  \n",
       "5004      0.325000  \n",
       "5005      0.097253  \n",
       "5006      0.467028  \n",
       "5007      0.286154  \n",
       "5008     -0.046317  \n",
       "\n",
       "[5009 rows x 13 columns]"
      ]
     },
     "execution_count": 87,
     "metadata": {},
     "output_type": "execute_result"
    }
   ],
   "source": [
    "order=dataset.groupby('Order_ID').agg({'Order_Date':lambda x: x.iloc[0],'Customer_ID':lambda x: x.iloc[0],'Segment':lambda x: x.iloc[0],'State':lambda x: x.iloc[0],'Region':lambda x: x.iloc[0],\"Category\":\"nunique\",\"Sub-Category\":\"nunique\",\"Sales\":\"sum\",\"Quantity\":\"mean\",\"Discount\":\"mean\",\"Profit\":\"sum\"}).reset_index()\n",
    "order['Profit_Ratio']=order.Profit/order.Sales\n",
    "order"
   ]
  },
  {
   "cell_type": "markdown",
   "metadata": {},
   "source": [
    "## Order"
   ]
  },
  {
   "cell_type": "code",
   "execution_count": 88,
   "metadata": {},
   "outputs": [
    {
     "data": {
      "image/png": "[encoded data removed]",
      "text/plain": [
       "<Figure size 1440x432 with 2 Axes>"
      ]
     },
     "metadata": {
      "needs_background": "light"
     },
     "output_type": "display_data"
    }
   ],
   "source": [
    "order_seas=order.groupby(order['Order_Date'].dt.strftime('%Y-%m')).agg({'Order_ID':'count','Sales':'sum','Discount':'mean','Profit':'sum'}).reset_index()\n",
    "order_seas['Profit_Ratio']=order_seas.Profit/order_seas.Sales\n",
    "order_seas.rename(columns={'Order_ID':'Order_Count'},inplace=True)\n",
    "order_seas.Order_Date=pd.to_datetime(order_seas.Order_Date,format='%Y-%m')\n",
    "\n",
    "plt.figure(figsize = (20, 6))\n",
    "plt.subplot(1,2,1)\n",
    "chart=sb.lineplot(data=order_seas,x='Order_Date',y='Order_Count')\n",
    "\n",
    "plt.subplot(1,2,2)\n",
    "chart1=sb.lineplot(data=order_seas,x='Order_Date',y='Profit_Ratio', label='Profit Ratio')\n",
    "chart2=sb.lineplot(data=order_seas,x='Order_Date',y='Discount',label='Discount')\n",
    "\n",
    "chart.set_title(\"Number of Order by Date\")\n",
    "chart1.set_title('Profit ratio over the months')\n",
    "\n",
    "plt.tight_layout()\n",
    "plt.show()"
   ]
  },
  {
   "cell_type": "markdown",
   "metadata": {},
   "source": [
    "According to the number of orders along the years, there are seasonality and trend. The trend shows that the number of order increases over the years. \n",
    "Every year there is a huge amount of orders made in September, November and December. This can correspond to the start of the school (september), to the black friday (November) and Christmas (December). \n",
    "If we compare to the Profit Ratio, it has been only three months negative overall, and only the first year.\n",
    "It seems the Profit Ratio is the higest when the number of orders is not at the maximun, more or less in february/march. Actually when the discount is the lowest, this is when the Profit Ratio is the highest."
   ]
  },
  {
   "cell_type": "markdown",
   "metadata": {},
   "source": [
    "## Customer"
   ]
  },
  {
   "cell_type": "code",
   "execution_count": 89,
   "metadata": {},
   "outputs": [
    {
     "data": {
      "text/html": [
       "<div>\n",
       "<style scoped>\n",
       "    .dataframe tbody tr th:only-of-type {\n",
       "        vertical-align: middle;\n",
       "    }\n",
       "\n",
       "    .dataframe tbody tr th {\n",
       "        vertical-align: top;\n",
       "    }\n",
       "\n",
       "    .dataframe thead th {\n",
       "        text-align: right;\n",
       "    }\n",
       "</style>\n",
       "<table border=\"1\" class=\"dataframe\">\n",
       "  <thead>\n",
       "    <tr style=\"text-align: right;\">\n",
       "      <th></th>\n",
       "      <th>Customer_ID</th>\n",
       "      <th>Order_ID</th>\n",
       "      <th>Date_Max</th>\n",
       "      <th>Date_Min</th>\n",
       "      <th>Segment</th>\n",
       "      <th>State</th>\n",
       "      <th>Region</th>\n",
       "      <th>Category</th>\n",
       "      <th>Sub-Category</th>\n",
       "      <th>Sales</th>\n",
       "      <th>Quantity</th>\n",
       "      <th>Discount</th>\n",
       "      <th>Profit</th>\n",
       "    </tr>\n",
       "  </thead>\n",
       "  <tbody>\n",
       "    <tr>\n",
       "      <th>0</th>\n",
       "      <td>AA-10315</td>\n",
       "      <td>5</td>\n",
       "      <td>2019-06-29</td>\n",
       "      <td>2016-03-31</td>\n",
       "      <td>[Consumer]</td>\n",
       "      <td>[California, New York, Texas, Minnesota]</td>\n",
       "      <td>[West, East, Central]</td>\n",
       "      <td>1.400000</td>\n",
       "      <td>2.200000</td>\n",
       "      <td>5563.560</td>\n",
       "      <td>2.500000</td>\n",
       "      <td>0.060000</td>\n",
       "      <td>-362.8825</td>\n",
       "    </tr>\n",
       "    <tr>\n",
       "      <th>1</th>\n",
       "      <td>AA-10375</td>\n",
       "      <td>9</td>\n",
       "      <td>2019-12-11</td>\n",
       "      <td>2016-04-21</td>\n",
       "      <td>[Consumer]</td>\n",
       "      <td>[California, Oregon, Tennessee, Nebraska, Ariz...</td>\n",
       "      <td>[West, South, Central, East]</td>\n",
       "      <td>1.333333</td>\n",
       "      <td>1.555556</td>\n",
       "      <td>1056.390</td>\n",
       "      <td>3.074074</td>\n",
       "      <td>0.118519</td>\n",
       "      <td>277.3824</td>\n",
       "    </tr>\n",
       "    <tr>\n",
       "      <th>2</th>\n",
       "      <td>AA-10480</td>\n",
       "      <td>4</td>\n",
       "      <td>2019-04-15</td>\n",
       "      <td>2016-05-04</td>\n",
       "      <td>[Consumer]</td>\n",
       "      <td>[Connecticut, Michigan, Missouri, North Carolina]</td>\n",
       "      <td>[East, Central, South]</td>\n",
       "      <td>1.500000</td>\n",
       "      <td>2.250000</td>\n",
       "      <td>1790.512</td>\n",
       "      <td>2.800000</td>\n",
       "      <td>0.050000</td>\n",
       "      <td>435.8274</td>\n",
       "    </tr>\n",
       "    <tr>\n",
       "      <th>3</th>\n",
       "      <td>AA-10645</td>\n",
       "      <td>6</td>\n",
       "      <td>2019-11-05</td>\n",
       "      <td>2016-06-22</td>\n",
       "      <td>[Consumer]</td>\n",
       "      <td>[Massachusetts, Pennsylvania, Oklahoma, Kentuc...</td>\n",
       "      <td>[East, Central, South, West]</td>\n",
       "      <td>1.833333</td>\n",
       "      <td>2.666667</td>\n",
       "      <td>5086.935</td>\n",
       "      <td>3.333333</td>\n",
       "      <td>0.061806</td>\n",
       "      <td>857.8033</td>\n",
       "    </tr>\n",
       "    <tr>\n",
       "      <th>4</th>\n",
       "      <td>AB-10015</td>\n",
       "      <td>3</td>\n",
       "      <td>2018-11-10</td>\n",
       "      <td>2016-02-18</td>\n",
       "      <td>[Consumer]</td>\n",
       "      <td>[Texas, Washington, Oklahoma]</td>\n",
       "      <td>[Central, West]</td>\n",
       "      <td>1.666667</td>\n",
       "      <td>2.000000</td>\n",
       "      <td>886.156</td>\n",
       "      <td>2.111111</td>\n",
       "      <td>0.088889</td>\n",
       "      <td>129.3465</td>\n",
       "    </tr>\n",
       "    <tr>\n",
       "      <th>...</th>\n",
       "      <td>...</td>\n",
       "      <td>...</td>\n",
       "      <td>...</td>\n",
       "      <td>...</td>\n",
       "      <td>...</td>\n",
       "      <td>...</td>\n",
       "      <td>...</td>\n",
       "      <td>...</td>\n",
       "      <td>...</td>\n",
       "      <td>...</td>\n",
       "      <td>...</td>\n",
       "      <td>...</td>\n",
       "      <td>...</td>\n",
       "    </tr>\n",
       "    <tr>\n",
       "      <th>788</th>\n",
       "      <td>XP-21865</td>\n",
       "      <td>11</td>\n",
       "      <td>2019-11-17</td>\n",
       "      <td>2016-01-20</td>\n",
       "      <td>[Consumer]</td>\n",
       "      <td>[Florida, California, Michigan, Illinois, Geor...</td>\n",
       "      <td>[South, West, Central, East]</td>\n",
       "      <td>1.181818</td>\n",
       "      <td>1.909091</td>\n",
       "      <td>2374.658</td>\n",
       "      <td>3.438312</td>\n",
       "      <td>0.060877</td>\n",
       "      <td>621.2300</td>\n",
       "    </tr>\n",
       "    <tr>\n",
       "      <th>789</th>\n",
       "      <td>YC-21895</td>\n",
       "      <td>5</td>\n",
       "      <td>2019-12-26</td>\n",
       "      <td>2016-11-17</td>\n",
       "      <td>[Corporate]</td>\n",
       "      <td>[Delaware, California, Texas, Nebraska]</td>\n",
       "      <td>[East, West, Central]</td>\n",
       "      <td>1.400000</td>\n",
       "      <td>1.600000</td>\n",
       "      <td>5454.350</td>\n",
       "      <td>3.600000</td>\n",
       "      <td>0.080000</td>\n",
       "      <td>1305.6290</td>\n",
       "    </tr>\n",
       "    <tr>\n",
       "      <th>790</th>\n",
       "      <td>YS-21880</td>\n",
       "      <td>8</td>\n",
       "      <td>2019-12-21</td>\n",
       "      <td>2017-01-12</td>\n",
       "      <td>[Corporate]</td>\n",
       "      <td>[California, Alabama, Delaware, Washington, No...</td>\n",
       "      <td>[West, South, East]</td>\n",
       "      <td>1.375000</td>\n",
       "      <td>1.500000</td>\n",
       "      <td>6720.444</td>\n",
       "      <td>4.604167</td>\n",
       "      <td>0.058333</td>\n",
       "      <td>1778.2923</td>\n",
       "    </tr>\n",
       "    <tr>\n",
       "      <th>791</th>\n",
       "      <td>ZC-21910</td>\n",
       "      <td>13</td>\n",
       "      <td>2019-11-06</td>\n",
       "      <td>2016-10-13</td>\n",
       "      <td>[Consumer]</td>\n",
       "      <td>[Illinois, Washington, Colorado, Indiana, Cali...</td>\n",
       "      <td>[Central, West, South, East]</td>\n",
       "      <td>1.769231</td>\n",
       "      <td>2.230769</td>\n",
       "      <td>8025.707</td>\n",
       "      <td>3.435897</td>\n",
       "      <td>0.275000</td>\n",
       "      <td>-1032.1490</td>\n",
       "    </tr>\n",
       "    <tr>\n",
       "      <th>792</th>\n",
       "      <td>ZD-21925</td>\n",
       "      <td>5</td>\n",
       "      <td>2019-06-11</td>\n",
       "      <td>2016-08-27</td>\n",
       "      <td>[Consumer]</td>\n",
       "      <td>[California, Florida, Indiana, Tennessee]</td>\n",
       "      <td>[West, South, Central]</td>\n",
       "      <td>1.600000</td>\n",
       "      <td>1.800000</td>\n",
       "      <td>1493.944</td>\n",
       "      <td>3.700000</td>\n",
       "      <td>0.106667</td>\n",
       "      <td>249.1307</td>\n",
       "    </tr>\n",
       "  </tbody>\n",
       "</table>\n",
       "<p>793 rows × 13 columns</p>\n",
       "</div>"
      ],
      "text/plain": [
       "    Customer_ID  Order_ID   Date_Max   Date_Min      Segment  \\\n",
       "0      AA-10315         5 2019-06-29 2016-03-31   [Consumer]   \n",
       "1      AA-10375         9 2019-12-11 2016-04-21   [Consumer]   \n",
       "2      AA-10480         4 2019-04-15 2016-05-04   [Consumer]   \n",
       "3      AA-10645         6 2019-11-05 2016-06-22   [Consumer]   \n",
       "4      AB-10015         3 2018-11-10 2016-02-18   [Consumer]   \n",
       "..          ...       ...        ...        ...          ...   \n",
       "788    XP-21865        11 2019-11-17 2016-01-20   [Consumer]   \n",
       "789    YC-21895         5 2019-12-26 2016-11-17  [Corporate]   \n",
       "790    YS-21880         8 2019-12-21 2017-01-12  [Corporate]   \n",
       "791    ZC-21910        13 2019-11-06 2016-10-13   [Consumer]   \n",
       "792    ZD-21925         5 2019-06-11 2016-08-27   [Consumer]   \n",
       "\n",
       "                                                 State  \\\n",
       "0             [California, New York, Texas, Minnesota]   \n",
       "1    [California, Oregon, Tennessee, Nebraska, Ariz...   \n",
       "2    [Connecticut, Michigan, Missouri, North Carolina]   \n",
       "3    [Massachusetts, Pennsylvania, Oklahoma, Kentuc...   \n",
       "4                        [Texas, Washington, Oklahoma]   \n",
       "..                                                 ...   \n",
       "788  [Florida, California, Michigan, Illinois, Geor...   \n",
       "789            [Delaware, California, Texas, Nebraska]   \n",
       "790  [California, Alabama, Delaware, Washington, No...   \n",
       "791  [Illinois, Washington, Colorado, Indiana, Cali...   \n",
       "792          [California, Florida, Indiana, Tennessee]   \n",
       "\n",
       "                           Region  Category  Sub-Category     Sales  Quantity  \\\n",
       "0           [West, East, Central]  1.400000      2.200000  5563.560  2.500000   \n",
       "1    [West, South, Central, East]  1.333333      1.555556  1056.390  3.074074   \n",
       "2          [East, Central, South]  1.500000      2.250000  1790.512  2.800000   \n",
       "3    [East, Central, South, West]  1.833333      2.666667  5086.935  3.333333   \n",
       "4                 [Central, West]  1.666667      2.000000   886.156  2.111111   \n",
       "..                            ...       ...           ...       ...       ...   \n",
       "788  [South, West, Central, East]  1.181818      1.909091  2374.658  3.438312   \n",
       "789         [East, West, Central]  1.400000      1.600000  5454.350  3.600000   \n",
       "790           [West, South, East]  1.375000      1.500000  6720.444  4.604167   \n",
       "791  [Central, West, South, East]  1.769231      2.230769  8025.707  3.435897   \n",
       "792        [West, South, Central]  1.600000      1.800000  1493.944  3.700000   \n",
       "\n",
       "     Discount     Profit  \n",
       "0    0.060000  -362.8825  \n",
       "1    0.118519   277.3824  \n",
       "2    0.050000   435.8274  \n",
       "3    0.061806   857.8033  \n",
       "4    0.088889   129.3465  \n",
       "..        ...        ...  \n",
       "788  0.060877   621.2300  \n",
       "789  0.080000  1305.6290  \n",
       "790  0.058333  1778.2923  \n",
       "791  0.275000 -1032.1490  \n",
       "792  0.106667   249.1307  \n",
       "\n",
       "[793 rows x 13 columns]"
      ]
     },
     "execution_count": 89,
     "metadata": {},
     "output_type": "execute_result"
    }
   ],
   "source": [
    "order['Date_Min']=order.Order_Date\n",
    "order.rename(columns={'Order_Date':'Date_Max'},inplace=True)\n",
    "\n",
    "customer=order.groupby(\"Customer_ID\").agg({\"Order_ID\":\"count\",\"Date_Max\":\"max\",\"Date_Min\":\"min\",\"Segment\":\"unique\",\"State\":\"unique\",\"Region\":\"unique\",\"Category\":\"mean\",\"Sub-Category\":\"mean\",\"Sales\":\"sum\",\"Quantity\":\"mean\",\"Discount\":\"mean\",\"Profit\":\"sum\"}).reset_index()\n",
    "customer"
   ]
  },
  {
   "cell_type": "code",
   "execution_count": 47,
   "metadata": {},
   "outputs": [
    {
     "name": "stdout",
     "output_type": "stream",
     "text": [
      "<class 'pandas.core.frame.DataFrame'>\n",
      "RangeIndex: 793 entries, 0 to 792\n",
      "Data columns (total 13 columns):\n",
      " #   Column        Non-Null Count  Dtype         \n",
      "---  ------        --------------  -----         \n",
      " 0   Customer_ID   793 non-null    object        \n",
      " 1   Order_ID      793 non-null    int64         \n",
      " 2   Date_Max      793 non-null    datetime64[ns]\n",
      " 3   Date_Min      793 non-null    datetime64[ns]\n",
      " 4   Segment       793 non-null    object        \n",
      " 5   State         793 non-null    object        \n",
      " 6   Region        793 non-null    object        \n",
      " 7   Category      793 non-null    float64       \n",
      " 8   Sub-Category  793 non-null    float64       \n",
      " 9   Sales         793 non-null    float64       \n",
      " 10  Quantity      793 non-null    float64       \n",
      " 11  Discount      793 non-null    float64       \n",
      " 12  Profit        793 non-null    float64       \n",
      "dtypes: datetime64[ns](2), float64(6), int64(1), object(4)\n",
      "memory usage: 80.7+ KB\n"
     ]
    }
   ],
   "source": [
    "customer.info()"
   ]
  },
  {
   "cell_type": "markdown",
   "metadata": {},
   "source": [
    "### Data enrichement with Last purchase, Loyalty, Frequency"
   ]
  },
  {
   "cell_type": "code",
   "execution_count": 90,
   "metadata": {
    "scrolled": true
   },
   "outputs": [
    {
     "data": {
      "text/html": [
       "<div>\n",
       "<style scoped>\n",
       "    .dataframe tbody tr th:only-of-type {\n",
       "        vertical-align: middle;\n",
       "    }\n",
       "\n",
       "    .dataframe tbody tr th {\n",
       "        vertical-align: top;\n",
       "    }\n",
       "\n",
       "    .dataframe thead th {\n",
       "        text-align: right;\n",
       "    }\n",
       "</style>\n",
       "<table border=\"1\" class=\"dataframe\">\n",
       "  <thead>\n",
       "    <tr style=\"text-align: right;\">\n",
       "      <th></th>\n",
       "      <th>Customer_ID</th>\n",
       "      <th>Order_Count</th>\n",
       "      <th>Date_Max</th>\n",
       "      <th>Date_Min</th>\n",
       "      <th>Segment</th>\n",
       "      <th>State</th>\n",
       "      <th>Region</th>\n",
       "      <th>Category</th>\n",
       "      <th>Sub-Category</th>\n",
       "      <th>Sales</th>\n",
       "      <th>Quantity</th>\n",
       "      <th>Discount</th>\n",
       "      <th>Profit</th>\n",
       "      <th>Last_Purchase</th>\n",
       "      <th>Loyalty</th>\n",
       "      <th>Frequency</th>\n",
       "      <th>Profit_Ratio</th>\n",
       "    </tr>\n",
       "  </thead>\n",
       "  <tbody>\n",
       "    <tr>\n",
       "      <th>0</th>\n",
       "      <td>AA-10315</td>\n",
       "      <td>5</td>\n",
       "      <td>2019-06-29</td>\n",
       "      <td>2016-03-31</td>\n",
       "      <td>[Consumer]</td>\n",
       "      <td>[California, New York, Texas, Minnesota]</td>\n",
       "      <td>[West, East, Central]</td>\n",
       "      <td>1.400000</td>\n",
       "      <td>2.200000</td>\n",
       "      <td>5563.560</td>\n",
       "      <td>2.500000</td>\n",
       "      <td>0.060000</td>\n",
       "      <td>-362.8825</td>\n",
       "      <td>184 days</td>\n",
       "      <td>1369 days</td>\n",
       "      <td>237.000000</td>\n",
       "      <td>-0.065225</td>\n",
       "    </tr>\n",
       "    <tr>\n",
       "      <th>1</th>\n",
       "      <td>AA-10375</td>\n",
       "      <td>9</td>\n",
       "      <td>2019-12-11</td>\n",
       "      <td>2016-04-21</td>\n",
       "      <td>[Consumer]</td>\n",
       "      <td>[California, Oregon, Tennessee, Nebraska, Ariz...</td>\n",
       "      <td>[West, South, Central, East]</td>\n",
       "      <td>1.333333</td>\n",
       "      <td>1.555556</td>\n",
       "      <td>1056.390</td>\n",
       "      <td>3.074074</td>\n",
       "      <td>0.118519</td>\n",
       "      <td>277.3824</td>\n",
       "      <td>19 days</td>\n",
       "      <td>1348 days</td>\n",
       "      <td>147.666667</td>\n",
       "      <td>0.262576</td>\n",
       "    </tr>\n",
       "    <tr>\n",
       "      <th>2</th>\n",
       "      <td>AA-10480</td>\n",
       "      <td>4</td>\n",
       "      <td>2019-04-15</td>\n",
       "      <td>2016-05-04</td>\n",
       "      <td>[Consumer]</td>\n",
       "      <td>[Connecticut, Michigan, Missouri, North Carolina]</td>\n",
       "      <td>[East, Central, South]</td>\n",
       "      <td>1.500000</td>\n",
       "      <td>2.250000</td>\n",
       "      <td>1790.512</td>\n",
       "      <td>2.800000</td>\n",
       "      <td>0.050000</td>\n",
       "      <td>435.8274</td>\n",
       "      <td>259 days</td>\n",
       "      <td>1335 days</td>\n",
       "      <td>269.000000</td>\n",
       "      <td>0.243409</td>\n",
       "    </tr>\n",
       "    <tr>\n",
       "      <th>3</th>\n",
       "      <td>AA-10645</td>\n",
       "      <td>6</td>\n",
       "      <td>2019-11-05</td>\n",
       "      <td>2016-06-22</td>\n",
       "      <td>[Consumer]</td>\n",
       "      <td>[Massachusetts, Pennsylvania, Oklahoma, Kentuc...</td>\n",
       "      <td>[East, Central, South, West]</td>\n",
       "      <td>1.833333</td>\n",
       "      <td>2.666667</td>\n",
       "      <td>5086.935</td>\n",
       "      <td>3.333333</td>\n",
       "      <td>0.061806</td>\n",
       "      <td>857.8033</td>\n",
       "      <td>55 days</td>\n",
       "      <td>1286 days</td>\n",
       "      <td>205.166667</td>\n",
       "      <td>0.168629</td>\n",
       "    </tr>\n",
       "    <tr>\n",
       "      <th>4</th>\n",
       "      <td>AB-10015</td>\n",
       "      <td>3</td>\n",
       "      <td>2018-11-10</td>\n",
       "      <td>2016-02-18</td>\n",
       "      <td>[Consumer]</td>\n",
       "      <td>[Texas, Washington, Oklahoma]</td>\n",
       "      <td>[Central, West]</td>\n",
       "      <td>1.666667</td>\n",
       "      <td>2.000000</td>\n",
       "      <td>886.156</td>\n",
       "      <td>2.111111</td>\n",
       "      <td>0.088889</td>\n",
       "      <td>129.3465</td>\n",
       "      <td>415 days</td>\n",
       "      <td>1411 days</td>\n",
       "      <td>332.000000</td>\n",
       "      <td>0.145964</td>\n",
       "    </tr>\n",
       "  </tbody>\n",
       "</table>\n",
       "</div>"
      ],
      "text/plain": [
       "  Customer_ID  Order_Count   Date_Max   Date_Min     Segment  \\\n",
       "0    AA-10315            5 2019-06-29 2016-03-31  [Consumer]   \n",
       "1    AA-10375            9 2019-12-11 2016-04-21  [Consumer]   \n",
       "2    AA-10480            4 2019-04-15 2016-05-04  [Consumer]   \n",
       "3    AA-10645            6 2019-11-05 2016-06-22  [Consumer]   \n",
       "4    AB-10015            3 2018-11-10 2016-02-18  [Consumer]   \n",
       "\n",
       "                                               State  \\\n",
       "0           [California, New York, Texas, Minnesota]   \n",
       "1  [California, Oregon, Tennessee, Nebraska, Ariz...   \n",
       "2  [Connecticut, Michigan, Missouri, North Carolina]   \n",
       "3  [Massachusetts, Pennsylvania, Oklahoma, Kentuc...   \n",
       "4                      [Texas, Washington, Oklahoma]   \n",
       "\n",
       "                         Region  Category  Sub-Category     Sales  Quantity  \\\n",
       "0         [West, East, Central]  1.400000      2.200000  5563.560  2.500000   \n",
       "1  [West, South, Central, East]  1.333333      1.555556  1056.390  3.074074   \n",
       "2        [East, Central, South]  1.500000      2.250000  1790.512  2.800000   \n",
       "3  [East, Central, South, West]  1.833333      2.666667  5086.935  3.333333   \n",
       "4               [Central, West]  1.666667      2.000000   886.156  2.111111   \n",
       "\n",
       "   Discount    Profit Last_Purchase   Loyalty   Frequency  Profit_Ratio  \n",
       "0  0.060000 -362.8825      184 days 1369 days  237.000000     -0.065225  \n",
       "1  0.118519  277.3824       19 days 1348 days  147.666667      0.262576  \n",
       "2  0.050000  435.8274      259 days 1335 days  269.000000      0.243409  \n",
       "3  0.061806  857.8033       55 days 1286 days  205.166667      0.168629  \n",
       "4  0.088889  129.3465      415 days 1411 days  332.000000      0.145964  "
      ]
     },
     "execution_count": 90,
     "metadata": {},
     "output_type": "execute_result"
    }
   ],
   "source": [
    "Today=df.Order_Date.max()\n",
    "\n",
    "customer['Last_Purchase']=Today-customer['Date_Max']\n",
    "\n",
    "customer['Loyalty']=Today-customer['Date_Min']\n",
    "\n",
    "customer['Frequency']=(customer.Date_Max-customer.Date_Min)/customer.Order_ID\n",
    "customer.Frequency= customer.Frequency/np.timedelta64(1, 'D')\n",
    "customer.Frequency=pd.to_numeric(customer.Frequency, downcast='integer')\n",
    "\n",
    "customer['Profit_Ratio']=customer.Profit/customer.Sales\n",
    "customer.Order_ID=customer.rename(columns={'Order_ID':'Order_Count'},inplace=True)\n",
    "customer.head()"
   ]
  },
  {
   "cell_type": "code",
   "execution_count": 49,
   "metadata": {},
   "outputs": [],
   "source": [
    "customer['Loyalty_year']=customer['Loyalty']/365\n",
    "#to get it in year, not in days"
   ]
  },
  {
   "cell_type": "code",
   "execution_count": 51,
   "metadata": {
    "scrolled": true
   },
   "outputs": [
    {
     "name": "stderr",
     "output_type": "stream",
     "text": [
      "/Users/cholletemilien/opt/anaconda3/lib/python3.8/site-packages/seaborn/distributions.py:2551: FutureWarning: `distplot` is a deprecated function and will be removed in a future version. Please adapt your code to use either `displot` (a figure-level function with similar flexibility) or `histplot` (an axes-level function for histograms).\n",
      "  warnings.warn(msg, FutureWarning)\n"
     ]
    },
    {
     "data": {
      "image/png": "[encoded data removed]",
      "text/plain": [
       "<Figure size 720x432 with 1 Axes>"
      ]
     },
     "metadata": {
      "needs_background": "light"
     },
     "output_type": "display_data"
    }
   ],
   "source": [
    "plt.figure(figsize=(10,6))\n",
    "chart=sb.distplot(customer.Profit_Ratio,hist=True)\n",
    "chart.set_title(\"Profit Ratio distibution\")\n",
    "plt.show()"
   ]
  },
  {
   "cell_type": "markdown",
   "metadata": {},
   "source": [
    "Most of the customers are \"profitable\" customer but some of them are not. Let's analyse the non profitable customer habits compared to the profitable one."
   ]
  },
  {
   "cell_type": "code",
   "execution_count": 93,
   "metadata": {},
   "outputs": [],
   "source": [
    "customer_noprofit=customer[customer.Profit_Ratio<0]\n",
    "\n",
    "customer_profit=customer[customer.Profit_Ratio>=0]\n"
   ]
  },
  {
   "cell_type": "code",
   "execution_count": 102,
   "metadata": {},
   "outputs": [
    {
     "name": "stdout",
     "output_type": "stream",
     "text": [
      "percentage no profitable customers:\n",
      "0.19546027742749053\n"
     ]
    }
   ],
   "source": [
    "print('percentage no profitable customers:')\n",
    "print(len(customer_noprofit)/(len(customer_noprofit)+len(customer_profit)))\n"
   ]
  },
  {
   "cell_type": "markdown",
   "metadata": {},
   "source": [
    "Almost 20% of the customers are non profitable customers."
   ]
  },
  {
   "cell_type": "code",
   "execution_count": 73,
   "metadata": {},
   "outputs": [
    {
     "name": "stderr",
     "output_type": "stream",
     "text": [
      "/Users/cholletemilien/opt/anaconda3/lib/python3.8/site-packages/seaborn/distributions.py:2551: FutureWarning: `distplot` is a deprecated function and will be removed in a future version. Please adapt your code to use either `displot` (a figure-level function with similar flexibility) or `histplot` (an axes-level function for histograms).\n",
      "  warnings.warn(msg, FutureWarning)\n",
      "<ipython-input-73-b3d3adccacc8>:6: MatplotlibDeprecationWarning: Adding an axes using the same arguments as a previous axes currently reuses the earlier instance.  In a future version, a new instance will always be created and returned.  Meanwhile, this warning can be suppressed, and the future behavior ensured, by passing a unique label to each axes instance.\n",
      "  plt.subplot(1,2,1)\n",
      "/Users/cholletemilien/opt/anaconda3/lib/python3.8/site-packages/seaborn/distributions.py:2551: FutureWarning: `distplot` is a deprecated function and will be removed in a future version. Please adapt your code to use either `displot` (a figure-level function with similar flexibility) or `histplot` (an axes-level function for histograms).\n",
      "  warnings.warn(msg, FutureWarning)\n"
     ]
    },
    {
     "data": {
      "image/png": "[encoded data removed]",
      "text/plain": [
       "<Figure size 720x432 with 1 Axes>"
      ]
     },
     "metadata": {
      "needs_background": "light"
     },
     "output_type": "display_data"
    }
   ],
   "source": [
    "plt.figure(figsize=(10,6))\n",
    "plt.subplot(1,2,1)\n",
    "chart=sb.distplot(customer_profit.Order_Count,hist=True,label='profitable')\n",
    "\n",
    "\n",
    "plt.subplot(1,2,1)\n",
    "chart1=sb.distplot(customer_noprofit.Order_Count,hist=True,label='non profitable')\n",
    "\n",
    "plt.legend(loc=\"upper left\")\n",
    "plt.tight_layout()\n",
    "plt.title(\"order count distribution\")\n",
    "plt.show()"
   ]
  },
  {
   "cell_type": "markdown",
   "metadata": {},
   "source": [
    "The non profitable customers tend to order a bit less (around 5) than the profitable ones (between 5 and 6).\n"
   ]
  },
  {
   "cell_type": "code",
   "execution_count": 56,
   "metadata": {},
   "outputs": [
    {
     "name": "stderr",
     "output_type": "stream",
     "text": [
      "/Users/cholletemilien/opt/anaconda3/lib/python3.8/site-packages/seaborn/distributions.py:2551: FutureWarning: `distplot` is a deprecated function and will be removed in a future version. Please adapt your code to use either `displot` (a figure-level function with similar flexibility) or `histplot` (an axes-level function for histograms).\n",
      "  warnings.warn(msg, FutureWarning)\n",
      "<ipython-input-56-e0c3f75519e2>:6: MatplotlibDeprecationWarning: Adding an axes using the same arguments as a previous axes currently reuses the earlier instance.  In a future version, a new instance will always be created and returned.  Meanwhile, this warning can be suppressed, and the future behavior ensured, by passing a unique label to each axes instance.\n",
      "  plt.subplot(1,2,1)\n",
      "/Users/cholletemilien/opt/anaconda3/lib/python3.8/site-packages/seaborn/distributions.py:2551: FutureWarning: `distplot` is a deprecated function and will be removed in a future version. Please adapt your code to use either `displot` (a figure-level function with similar flexibility) or `histplot` (an axes-level function for histograms).\n",
      "  warnings.warn(msg, FutureWarning)\n"
     ]
    },
    {
     "data": {
      "image/png": "[encoded data removed]",
      "text/plain": [
       "<Figure size 720x432 with 1 Axes>"
      ]
     },
     "metadata": {
      "needs_background": "light"
     },
     "output_type": "display_data"
    }
   ],
   "source": [
    "plt.figure(figsize=(10,6))\n",
    "plt.subplot(1,2,1)\n",
    "chart=sb.distplot(customer_profit.Loyalty_year,hist=True,label='profitable')\n",
    "\n",
    "\n",
    "plt.subplot(1,2,1)\n",
    "chart1=sb.distplot(customer_noprofit.Loyalty_year,hist=True,label='non profitable')\n",
    "\n",
    "plt.legend(loc=\"upper left\")\n",
    "plt.tight_layout()\n",
    "plt.title(\"Loyalty distribution\")\n",
    "\n",
    "plt.show()"
   ]
  },
  {
   "cell_type": "markdown",
   "metadata": {},
   "source": [
    "The loyalty, meaning when the cusomers did their first order is really similar. "
   ]
  },
  {
   "cell_type": "code",
   "execution_count": 57,
   "metadata": {},
   "outputs": [
    {
     "name": "stderr",
     "output_type": "stream",
     "text": [
      "/Users/cholletemilien/opt/anaconda3/lib/python3.8/site-packages/seaborn/distributions.py:2551: FutureWarning: `distplot` is a deprecated function and will be removed in a future version. Please adapt your code to use either `displot` (a figure-level function with similar flexibility) or `histplot` (an axes-level function for histograms).\n",
      "  warnings.warn(msg, FutureWarning)\n",
      "<ipython-input-57-ecdd386bc419>:6: MatplotlibDeprecationWarning: Adding an axes using the same arguments as a previous axes currently reuses the earlier instance.  In a future version, a new instance will always be created and returned.  Meanwhile, this warning can be suppressed, and the future behavior ensured, by passing a unique label to each axes instance.\n",
      "  plt.subplot(1,2,1)\n",
      "/Users/cholletemilien/opt/anaconda3/lib/python3.8/site-packages/seaborn/distributions.py:2551: FutureWarning: `distplot` is a deprecated function and will be removed in a future version. Please adapt your code to use either `displot` (a figure-level function with similar flexibility) or `histplot` (an axes-level function for histograms).\n",
      "  warnings.warn(msg, FutureWarning)\n"
     ]
    },
    {
     "data": {
      "image/png": "[encoded data removed]",
      "text/plain": [
       "<Figure size 720x432 with 1 Axes>"
      ]
     },
     "metadata": {
      "needs_background": "light"
     },
     "output_type": "display_data"
    }
   ],
   "source": [
    "plt.figure(figsize=(10,6))\n",
    "plt.subplot(1,2,1)\n",
    "chart=sb.distplot(customer_profit.Category,hist=True,label='profitable')\n",
    "\n",
    "\n",
    "plt.subplot(1,2,1)\n",
    "chart1=sb.distplot(customer_noprofit.Category,hist=True,label='non profitable')\n",
    "\n",
    "plt.legend(loc=\"upper left\")\n",
    "plt.tight_layout()\n",
    "plt.title(\"Number of Category distribution\")\n",
    "\n",
    "plt.show()\n"
   ]
  },
  {
   "cell_type": "markdown",
   "metadata": {},
   "source": [
    "In average both type of customers order 1.5 different category of product. "
   ]
  },
  {
   "cell_type": "code",
   "execution_count": 94,
   "metadata": {},
   "outputs": [
    {
     "name": "stderr",
     "output_type": "stream",
     "text": [
      "/Users/cholletemilien/opt/anaconda3/lib/python3.8/site-packages/seaborn/distributions.py:2551: FutureWarning: `distplot` is a deprecated function and will be removed in a future version. Please adapt your code to use either `displot` (a figure-level function with similar flexibility) or `histplot` (an axes-level function for histograms).\n",
      "  warnings.warn(msg, FutureWarning)\n",
      "<ipython-input-94-31fea0334017>:6: MatplotlibDeprecationWarning: Adding an axes using the same arguments as a previous axes currently reuses the earlier instance.  In a future version, a new instance will always be created and returned.  Meanwhile, this warning can be suppressed, and the future behavior ensured, by passing a unique label to each axes instance.\n",
      "  plt.subplot(1,2,1)\n",
      "/Users/cholletemilien/opt/anaconda3/lib/python3.8/site-packages/seaborn/distributions.py:2551: FutureWarning: `distplot` is a deprecated function and will be removed in a future version. Please adapt your code to use either `displot` (a figure-level function with similar flexibility) or `histplot` (an axes-level function for histograms).\n",
      "  warnings.warn(msg, FutureWarning)\n"
     ]
    },
    {
     "data": {
      "image/png": "[encoded data removed]",
      "text/plain": [
       "<Figure size 720x432 with 1 Axes>"
      ]
     },
     "metadata": {
      "needs_background": "light"
     },
     "output_type": "display_data"
    }
   ],
   "source": [
    "\n",
    "plt.figure(figsize=(10,6))\n",
    "plt.subplot(1,2,1)\n",
    "chart=sb.distplot(customer_profit.Frequency,hist=True,label='profitable')\n",
    "\n",
    "\n",
    "plt.subplot(1,2,1)\n",
    "chart1=sb.distplot(customer_noprofit.Frequency,hist=True,label='non profitable')\n",
    "\n",
    "plt.legend(loc=\"upper left\")\n",
    "plt.tight_layout()\n",
    "plt.title(\"Frequency distribution\")\n",
    "\n",
    "plt.show()\n"
   ]
  },
  {
   "cell_type": "markdown",
   "metadata": {},
   "source": [
    "The frequency represents the average number of days which separate each purchase from one customer.\n",
    "We can see that the \"bell\" is more spread with the non profitable customers than the profitable ones eventhough the median is more or less the same (175 days)."
   ]
  },
  {
   "cell_type": "code",
   "execution_count": 44,
   "metadata": {},
   "outputs": [
    {
     "name": "stderr",
     "output_type": "stream",
     "text": [
      "/Users/cholletemilien/opt/anaconda3/lib/python3.8/site-packages/seaborn/distributions.py:2551: FutureWarning: `distplot` is a deprecated function and will be removed in a future version. Please adapt your code to use either `displot` (a figure-level function with similar flexibility) or `histplot` (an axes-level function for histograms).\n",
      "  warnings.warn(msg, FutureWarning)\n",
      "<ipython-input-44-df825457d567>:6: MatplotlibDeprecationWarning: Adding an axes using the same arguments as a previous axes currently reuses the earlier instance.  In a future version, a new instance will always be created and returned.  Meanwhile, this warning can be suppressed, and the future behavior ensured, by passing a unique label to each axes instance.\n",
      "  plt.subplot(1,2,1)\n",
      "/Users/cholletemilien/opt/anaconda3/lib/python3.8/site-packages/seaborn/distributions.py:2551: FutureWarning: `distplot` is a deprecated function and will be removed in a future version. Please adapt your code to use either `displot` (a figure-level function with similar flexibility) or `histplot` (an axes-level function for histograms).\n",
      "  warnings.warn(msg, FutureWarning)\n"
     ]
    },
    {
     "data": {
      "image/png": "[encoded data removed]",
      "text/plain": [
       "<Figure size 720x432 with 1 Axes>"
      ]
     },
     "metadata": {
      "needs_background": "light"
     },
     "output_type": "display_data"
    }
   ],
   "source": [
    "plt.figure(figsize=(10,6))\n",
    "plt.subplot(1,2,1)\n",
    "chart=sb.distplot(customer_profit.Sales,hist=True,label='profitable')\n",
    "\n",
    "\n",
    "plt.subplot(1,2,1)\n",
    "chart1=sb.distplot(customer_noprofit.Sales,hist=True,label='non profitable')\n",
    "\n",
    "plt.legend(loc=\"upper left\")\n",
    "plt.tight_layout()\n",
    "plt.title(\"Sales distribution\")\n",
    "\n",
    "plt.show()\n"
   ]
  },
  {
   "cell_type": "markdown",
   "metadata": {},
   "source": [
    "The sales distribution is really similar. It does not differenciate the two customer types. "
   ]
  },
  {
   "cell_type": "code",
   "execution_count": 58,
   "metadata": {},
   "outputs": [
    {
     "name": "stderr",
     "output_type": "stream",
     "text": [
      "<ipython-input-58-efc61afba9fd>:1: SettingWithCopyWarning: \n",
      "A value is trying to be set on a copy of a slice from a DataFrame.\n",
      "Try using .loc[row_indexer,col_indexer] = value instead\n",
      "\n",
      "See the caveats in the documentation: https://pandas.pydata.org/pandas-docs/stable/user_guide/indexing.html#returning-a-view-versus-a-copy\n",
      "  customer_profit['Segment'] = [''.join(map(str, l)) for l in customer_profit['Segment']]\n",
      "<ipython-input-58-efc61afba9fd>:2: SettingWithCopyWarning: \n",
      "A value is trying to be set on a copy of a slice from a DataFrame.\n",
      "Try using .loc[row_indexer,col_indexer] = value instead\n",
      "\n",
      "See the caveats in the documentation: https://pandas.pydata.org/pandas-docs/stable/user_guide/indexing.html#returning-a-view-versus-a-copy\n",
      "  customer_noprofit['Segment'] = [''.join(map(str, l)) for l in customer_noprofit['Segment']]\n"
     ]
    }
   ],
   "source": [
    "customer_profit['Segment'] = [''.join(map(str, l)) for l in customer_profit['Segment']]\n",
    "customer_noprofit['Segment'] = [''.join(map(str, l)) for l in customer_noprofit['Segment']]"
   ]
  },
  {
   "cell_type": "code",
   "execution_count": 95,
   "metadata": {},
   "outputs": [
    {
     "data": {
      "image/png": "[encoded data removed]",
      "text/plain": [
       "<Figure size 432x288 with 1 Axes>"
      ]
     },
     "metadata": {
      "needs_background": "light"
     },
     "output_type": "display_data"
    }
   ],
   "source": [
    "import numpy as np\n",
    "\n",
    "labels = ['Consumer', 'Corporate', 'Home Office']\n",
    "customer_profit['Segment'].value_counts(sort=True,normalize=True)\n",
    "customer_noprofit['Segment'].value_counts(sort=True,normalize=True)\n",
    "\n",
    "x = np.arange(len(labels))  # the label locations\n",
    "width = 0.35  # the width of the bars\n",
    "\n",
    "fig, ax = plt.subplots()\n",
    "rects1 = ax.bar(x - width/2, customer_profit['Segment'].value_counts(sort=True,normalize=True), width, label='Profitable')\n",
    "rects2 = ax.bar(x + width/2, customer_noprofit['Segment'].value_counts(sort=True,normalize=True), width, label='Non Profitable')\n",
    "\n",
    "# Add some text for labels, title and custom x-axis tick labels, etc.\n",
    "ax.set_ylabel('Ratio %')\n",
    "ax.set_title('Segment Ratio by type of customer')\n",
    "ax.set_xticks(x)\n",
    "ax.set_xticklabels(labels)\n",
    "ax.legend()\n",
    "plt.show()"
   ]
  },
  {
   "cell_type": "markdown",
   "metadata": {},
   "source": [
    "The corporate customers are in the same proportion in the non profitable and profitable customers. But in the non profitable customers there are more \"consumer\" and less \"home office\" customers. It can have an impact on the profitability because the consumers buy cheaper products. "
   ]
  },
  {
   "cell_type": "code",
   "execution_count": 67,
   "metadata": {},
   "outputs": [
    {
     "data": {
      "image/png": "[encoded data removed]",
      "text/plain": [
       "<Figure size 432x288 with 1 Axes>"
      ]
     },
     "metadata": {
      "needs_background": "light"
     },
     "output_type": "display_data"
    }
   ],
   "source": [
    "customer_profit_segcount=customer_profit.groupby('Segment').Order_Count.mean().reset_index()\n",
    "customer_noprofit_segcount=customer_noprofit.groupby('Segment').Order_Count.mean().reset_index()\n",
    "\n",
    "labels = ['Consumer', 'Corporate', 'Home Office']\n",
    "x = np.arange(len(labels))  # the label locations\n",
    "width = 0.35  # the width of the bars\n",
    "\n",
    "fig, ax = plt.subplots()\n",
    "rects1 = ax.bar(x - width/2, customer_profit_segcount['Order_Count'], width, label='Profitable')\n",
    "rects2 = ax.bar(x + width/2, customer_noprofit_segcount['Order_Count'], width, label='Non Profitable')\n",
    "\n",
    "# Add some text for labels, title and custom x-axis tick labels, etc.\n",
    "ax.set_ylabel('Number of Order')\n",
    "ax.set_title('Number of order by type of customer')\n",
    "ax.set_xticks(x)\n",
    "ax.set_xticklabels(labels)\n",
    "ax.legend()\n",
    "plt.show()\n",
    "\n"
   ]
  },
  {
   "cell_type": "markdown",
   "metadata": {},
   "source": [
    "Moreover in each category of customers, the non profitable customers order less than the profitable ones. That might be a cause of non profitability. "
   ]
  },
  {
   "cell_type": "code",
   "execution_count": 280,
   "metadata": {},
   "outputs": [
    {
     "name": "stderr",
     "output_type": "stream",
     "text": [
      "/Users/cholletemilien/opt/anaconda3/lib/python3.8/site-packages/seaborn/distributions.py:2551: FutureWarning: `distplot` is a deprecated function and will be removed in a future version. Please adapt your code to use either `displot` (a figure-level function with similar flexibility) or `histplot` (an axes-level function for histograms).\n",
      "  warnings.warn(msg, FutureWarning)\n",
      "<ipython-input-280-085f5c00ea04>:6: MatplotlibDeprecationWarning: Adding an axes using the same arguments as a previous axes currently reuses the earlier instance.  In a future version, a new instance will always be created and returned.  Meanwhile, this warning can be suppressed, and the future behavior ensured, by passing a unique label to each axes instance.\n",
      "  plt.subplot(1,2,1)\n",
      "/Users/cholletemilien/opt/anaconda3/lib/python3.8/site-packages/seaborn/distributions.py:2551: FutureWarning: `distplot` is a deprecated function and will be removed in a future version. Please adapt your code to use either `displot` (a figure-level function with similar flexibility) or `histplot` (an axes-level function for histograms).\n",
      "  warnings.warn(msg, FutureWarning)\n"
     ]
    },
    {
     "data": {
      "image/png": "[encoded data removed]",
      "text/plain": [
       "<Figure size 720x432 with 1 Axes>"
      ]
     },
     "metadata": {
      "needs_background": "light"
     },
     "output_type": "display_data"
    }
   ],
   "source": [
    "\n",
    "plt.figure(figsize=(10,6))\n",
    "plt.subplot(1,2,1)\n",
    "chart=sb.distplot(customer_profit.Discount,hist=True,label='profitable')\n",
    "\n",
    "\n",
    "plt.subplot(1,2,1)\n",
    "chart1=sb.distplot(customer_noprofit.Discount,hist=True,label='non profitable')\n",
    "\n",
    "plt.legend(loc=\"upper left\")\n",
    "plt.tight_layout()\n",
    "plt.title(\"Discount distribution\")\n",
    "\n",
    "plt.show()\n"
   ]
  },
  {
   "cell_type": "markdown",
   "metadata": {},
   "source": [
    "The main factor that distinguishes the two profiles of customers is the average discount. \n",
    "The less profitable customers buy with a hight pourcentage of discount, around 20% discount.\n",
    "Thoses customers can be considered as opportunists because they buy only products which have a consequent discount. \n",
    "\n"
   ]
  },
  {
   "cell_type": "markdown",
   "metadata": {},
   "source": [
    "### Recommandations after the customer analysis"
   ]
  },
  {
   "cell_type": "markdown",
   "metadata": {},
   "source": [
    "The customer analysis revealed that 20% of A-to-Z Market's customers are non profitable. Among them there are more customers considered as \"Consumer\" and less \"Home office\" customers. Moreover they order with an average discount of 20%.\n",
    "It corroborates the analysis made earlier. The \"Consumer\" customers buy especially products from the furniture category. This is the less profitable category of products.\n"
   ]
  },
  {
   "cell_type": "markdown",
   "metadata": {},
   "source": [
    "In order to increase the profitability, we recommand to decrease the costs. Decreasing the cost of shipping by increasing the number of unit ordered and at the same time negociate with the providers a discount after a certain amount of unit bought.\n",
    "\n",
    "To turn non profitable customers into profitable one, we recommand to improve the recommandation engine of the website to propose them profitable products without discount. At the same time it would be worth running an emailing campaign to attrack them with discount as they react positively to it. Doing that will increase their number of order. "
   ]
  },
  {
   "cell_type": "markdown",
   "metadata": {},
   "source": [
    "# Conclusion\n"
   ]
  },
  {
   "cell_type": "markdown",
   "metadata": {},
   "source": [
    "After deeply analysing the performance of each product category, here are our recommandations:\n",
    "\n",
    "- Paper is a very popular and cheap product with very high profitability. This sub-category is performing well, but in avarage people buy 3 products by order. Because paper is very cheap and popular product, the company can easily increase the average number of units by order. For example, the company can propose 2+1 and 5+2 discount.\n",
    "\n",
    "- The popularity of Binders is due to the discount. The company should keep the same commercial stategy for this sub-category because the high discount increases the sales and brings profit.\n",
    "\n",
    "- The profitability and the popularity of Bookcases are low. To increase the profitability the company needs to increase price (but it is already high) or dicrease the discount (but most of the buyers seem to be motivated by the high discount which is around 20%). Moreover, most of the bookcases are unprofitables. If we keep only profitable products, the choice will be very poor and the popularity of the category will drop down. This sub-category should be abandoned.\n",
    "\n",
    "- Most of the sales of Copiers are motivated by the discount. This sub-categoty is already very profitable but not enough popular. The average discount is 16%, the company can increase the discount even more to motivate people to buy more copiers. The products will remain profitable and bring more money to the company.\n",
    "\n",
    "- We said that Chairs are expensive products and have relativly high discount (17%), we can see that most of the sales are motivated by the discount. This category is very important for the company because it brings a lot of money. To get even more money the company needs to increase the profitability of the sub-category by decreasing costs. \n",
    "\n",
    "- Tables is the most unprofitable category. Products are expensive and most of the sales are motivated by a high discount (27%). But according to the association rules even though Tables are unprofitable sub-category, they are often bought with other profitable products like Chairs and Labels. It means that the company should keep the same strategy for this sub-category.\n",
    "\n",
    "- Machines is a very diversified sub-category, however most of the product have negative profitability and other products are not profitable enough to increase the performance of this sub-category. The company should abandone the unfprofitable products and increase the popularity of products with high profit ratio.\n",
    "\n",
    "In addition to these recommandations for some categories, A-to-Z Market should also focus on their customers and develop different strategies according to their profile. \n",
    "\n",
    "- Some customers are more receptive to discount than others and buy only when there is a discount. They can become non profitable customers as the discount reduces a lot the profitability. To turn non profitable customers into profitable one, we recommand to improve the recommandation engine of the website to propose them profitable products without discount. At the same time it would be worth running an emailing campaign to attrack them with discount as they react positively to it. Doing that will increase their number of orders.\n",
    "\n",
    "In order to increase the profitability, we recommand to decrease the costs. Decreasing the cost of shipping by increasing the number of unit ordered and at the same time negociate with the providers a discount after a certain amount of unit bought.\n"
   ]
  },
  {
   "cell_type": "code",
   "execution_count": null,
   "metadata": {},
   "outputs": [],
   "source": []
  }
 ],
 "metadata": {
  "kernelspec": {
   "display_name": "Python 3",
   "language": "python",
   "name": "python3"
  },
  "language_info": {
   "codemirror_mode": {
    "name": "ipython",
    "version": 3
   },
   "file_extension": ".py",
   "mimetype": "text/x-python",
   "name": "python",
   "nbconvert_exporter": "python",
   "pygments_lexer": "ipython3",
   "version": "3.8.5"
  }
 },
 "nbformat": 4,
 "nbformat_minor": 4
}
